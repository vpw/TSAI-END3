{
  "nbformat": 4,
  "nbformat_minor": 0,
  "metadata": {
    "kernelspec": {
      "name": "python3",
      "display_name": "Python 3"
    },
    "language_info": {
      "codemirror_mode": {
        "name": "ipython",
        "version": 3
      },
      "file_extension": ".py",
      "mimetype": "text/x-python",
      "name": "python",
      "nbconvert_exporter": "python",
      "pygments_lexer": "ipython3",
      "version": "3.6.2"
    },
    "colab": {
      "name": "END3-MNIST-addnumber-ass2.5.ipynb",
      "provenance": [],
      "collapsed_sections": [],
      "toc_visible": true,
      "include_colab_link": true
    },
    "accelerator": "GPU"
  },
  "cells": [
    {
      "cell_type": "markdown",
      "metadata": {
        "id": "view-in-github",
        "colab_type": "text"
      },
      "source": [
        "<a href=\"https://colab.research.google.com/github/vpw/TSAI-END3/blob/main/Ass2.5/END3_MNIST_addnumber_ass2_5.ipynb\" target=\"_parent\"><img src=\"https://colab.research.google.com/assets/colab-badge.svg\" alt=\"Open In Colab\"/></a>"
      ]
    },
    {
      "cell_type": "markdown",
      "metadata": {
        "id": "poqOrQo5F3Hj"
      },
      "source": [
        "# Quick Start PyTorch - MNIST\n",
        "\n",
        "To run a Code Cell you can click on the `⏯ Run` button in the Navigation Bar above or type `Shift + Enter`"
      ]
    },
    {
      "cell_type": "code",
      "metadata": {
        "id": "eEAqUCX13sKj"
      },
      "source": [
        "#pip install --force-reinstall torch==1.2.0 torchvision==0.4.0 -f https://download.pytorch.org/whl/torch_stable.html"
      ],
      "execution_count": 1,
      "outputs": []
    },
    {
      "cell_type": "code",
      "metadata": {
        "id": "UryqtbowF3Ht",
        "colab": {
          "base_uri": "https://localhost:8080/"
        },
        "outputId": "a6aa89a0-4151-4f26-80d3-b25936f4609c"
      },
      "source": [
        "%pylab inline\n",
        "import numpy as np\n",
        "import torch\n",
        "import torch.nn as nn\n",
        "import torch.nn.functional as F\n",
        "from torch.utils.data import Dataset\n",
        "import torch.utils.data.dataloader as dataloader\n",
        "import torch.optim as optim\n",
        "\n",
        "from torch.utils.data import TensorDataset\n",
        "from torch.autograd import Variable\n",
        "from torchvision import transforms\n",
        "from torchvision.datasets import MNIST\n",
        "from torchsummary import summary\n",
        "\n",
        "SEED = 1\n",
        "\n",
        "# CUDA?\n",
        "use_cuda = torch.cuda.is_available()\n",
        "\n",
        "# For reproducibility\n",
        "torch.manual_seed(SEED)\n",
        "\n",
        "if use_cuda:\n",
        "    torch.cuda.manual_seed(SEED)\n",
        "\n",
        "device = torch.device(\"cuda\" if use_cuda else \"cpu\")"
      ],
      "execution_count": 30,
      "outputs": [
        {
          "output_type": "stream",
          "name": "stdout",
          "text": [
            "Populating the interactive namespace from numpy and matplotlib\n"
          ]
        },
        {
          "output_type": "stream",
          "name": "stderr",
          "text": [
            "/usr/local/lib/python3.7/dist-packages/IPython/core/magics/pylab.py:161: UserWarning: pylab import has clobbered these variables: ['test']\n",
            "`%matplotlib` prevents importing * from pylab and numpy\n",
            "  \"\\n`%matplotlib` prevents importing * from pylab and numpy\"\n"
          ]
        }
      ]
    },
    {
      "cell_type": "markdown",
      "metadata": {
        "id": "_y3iu-CF92Je"
      },
      "source": [
        "# Preparing the Dataset\n",
        "\n",
        "The \n",
        "\n",
        "MNIST dataset is normalized to [0,1] range as per the explanation here: https://stackoverflow.com/questions/63746182/correct-way-of-normalizing-and-scaling-the-mnist-dataset\n",
        "\n",
        "The dataset has the input MNIST image, a onehot encoding of a random number generated per test case, and the output which consists of the concatenation of the MNIST number (onehot) and a binary (decimal to binary) encoding of the sum. As the sum can vary from 0 to 19, 5 binary digits are needed, the dimension of the model output is hence 10+5 = 15 nodes. The target for MNIST is the MNIST label (instead of the one host encoding) so it is appended to the 5 digit sum.\n"
      ]
    },
    {
      "cell_type": "code",
      "metadata": {
        "id": "2WtaIzffIfO2"
      },
      "source": [
        "class MNIST_add_dataset(Dataset):\n",
        "  def __init__(self, trainset=True):\n",
        "    self.trainset=trainset\n",
        "    self.mnist_set = MNIST('./data', train=self.trainset, download=True, \n",
        "                                transform=transforms.Compose([\n",
        "                                    transforms.ToTensor(), # ToTensor does min-max normalization.\n",
        "                                    transforms.Normalize((0.1307,), (0.3081,))\n",
        "                                ]), )\n",
        "    # list of random integers for adding - part of training set\n",
        "    self.rand_int_num_list = [np.random.randint(0,10) for i in range(len(self.mnist_set))]\n",
        "    #print(\"Rand int \",self.rand_int_num_list[0])\n",
        "    # convert it to 1 hot encoding for use in training\n",
        "    self.num_onehot = np.identity(10)[self.rand_int_num_list]    \n",
        "    #print(\"Rand int one hot \",self.num_onehot[0])\n",
        "    # get the list of MNIST digits\n",
        "    self.digit_list = list(map(lambda x:[x[1]], self.mnist_set))\n",
        "    #print(\"MNIST digit \",self.digit_list[0], len(self.digit_list))\n",
        "    # get the final train target label by summing the MNIST label and the random number\n",
        "    # and get the binary (5 digit) representation of the sum of the MNIST digit and the random number\n",
        "    self.bin_sum_list = list(map(lambda x,y: list(map(int,f'{x[1]+y:05b}')), self.mnist_set, self.rand_int_num_list))\n",
        "    #print(\"Binary of sum \",self.bin_sum_list[0])\n",
        "    # set the target as a concatenation of the MNIST label and the binary encoding of the sum of the \n",
        "    # MNIST number and the random number\n",
        "    self.target = list(map(lambda x,y:np.concatenate((x,y)),self.digit_list,self.bin_sum_list))\n",
        "    #print(\"Target \",self.target[0])\n",
        "  def __getitem__(self, index):\n",
        "    # MNIST image input\n",
        "    image = self.mnist_set[index][0]\n",
        "    # One hot encoding of the random number\n",
        "    oh_num = torch.as_tensor(self.num_onehot[index],dtype=torch.float32)\n",
        "    # concatenated target\n",
        "    target = torch.tensor(self.target[index])\n",
        "    return ([image, oh_num],target)        \n",
        "  def __len__(self):\n",
        "    return len(self.mnist_set)                          "
      ],
      "execution_count": 3,
      "outputs": []
    },
    {
      "cell_type": "markdown",
      "metadata": {
        "id": "C3IES_ojSjFM"
      },
      "source": [
        "# Make the train and test datasets"
      ]
    },
    {
      "cell_type": "code",
      "metadata": {
        "colab": {
          "base_uri": "https://localhost:8080/"
        },
        "id": "_hdAnxPCS1OI",
        "outputId": "a7c94b60-862c-4ed5-bd58-b80a7d9f6bcb"
      },
      "source": [
        "train_set = MNIST_add_dataset(trainset=True)\n",
        "test_set = MNIST_add_dataset(trainset=False)"
      ],
      "execution_count": 4,
      "outputs": [
        {
          "output_type": "stream",
          "name": "stderr",
          "text": [
            "/usr/local/lib/python3.7/dist-packages/torchvision/datasets/mnist.py:498: UserWarning: The given NumPy array is not writeable, and PyTorch does not support non-writeable tensors. This means you can write to the underlying (supposedly non-writeable) NumPy array using the tensor. You may want to copy the array to protect its data or make it writeable before converting it to a tensor. This type of warning will be suppressed for the rest of this program. (Triggered internally at  /pytorch/torch/csrc/utils/tensor_numpy.cpp:180.)\n",
            "  return torch.from_numpy(parsed.astype(m[2], copy=False)).view(*s)\n"
          ]
        }
      ]
    },
    {
      "cell_type": "markdown",
      "metadata": {
        "id": "PomCjoo_SZM-"
      },
      "source": [
        "# Visualization"
      ]
    },
    {
      "cell_type": "markdown",
      "metadata": {
        "id": "Oxp7oMs5SdAg"
      },
      "source": [
        "# Data loader"
      ]
    },
    {
      "cell_type": "code",
      "metadata": {
        "colab": {
          "base_uri": "https://localhost:8080/"
        },
        "id": "pnhnWfOuSfxe",
        "outputId": "060e527e-7b4d-4210-bb3b-4c58dd267c21"
      },
      "source": [
        "dataloader_args = dict(shuffle=True, batch_size=256,num_workers=4, pin_memory=True) if use_cuda else dict(shuffle=True, batch_size=64)\n",
        "train_loader = dataloader.DataLoader(train_set, **dataloader_args)\n",
        "test_loader = dataloader.DataLoader(test_set, **dataloader_args)"
      ],
      "execution_count": 5,
      "outputs": [
        {
          "output_type": "stream",
          "name": "stderr",
          "text": [
            "/usr/local/lib/python3.7/dist-packages/torch/utils/data/dataloader.py:481: UserWarning: This DataLoader will create 4 worker processes in total. Our suggested max number of worker in current system is 2, which is smaller than what this DataLoader is going to create. Please be aware that excessive worker creation might get DataLoader running slow or even freeze, lower the worker number to avoid potential slowness/freeze if necessary.\n",
            "  cpuset_checked))\n"
          ]
        }
      ]
    },
    {
      "cell_type": "markdown",
      "metadata": {
        "id": "07_gZin_F3IL"
      },
      "source": [
        "## Model\n",
        "\n",
        "The model consists of 3 convolutional blocks, followed by 3 linear blocks, with ReLU activation in between. The MNIST image is fed to the 1st Conv block, and the ranbdom number (one hot) to the first linear block (alongwith the output of the 3rd Conv block, concatenated)."
      ]
    },
    {
      "cell_type": "code",
      "metadata": {
        "id": "ELkaVi6oUyIl"
      },
      "source": [
        "class Model(nn.Module):\n",
        "  def __init__(self):\n",
        "    super(Model, self).__init__()\n",
        "    # conv layer 1\n",
        "    self.conv1 = nn.Sequential(\n",
        "                          \n",
        "        nn.Conv2d(1,16,5), # 16x24x24\n",
        "        nn.ReLU(),\n",
        "        nn.MaxPool2d(2,2)  # 16x12x12\n",
        "    )\n",
        "    self.conv2 = nn.Sequential(\n",
        "        nn.Conv2d(16,32,5), # 32x8x8\n",
        "        nn.ReLU(),\n",
        "        nn.MaxPool2d(2,2)  # 32x4x4\n",
        "    )\n",
        "    self.conv3 = nn.Sequential(\n",
        "        nn.Conv2d(32,10,3), # 10x2x2\n",
        "        nn.MaxPool2d(2,2)   # 10x1x1\n",
        "    )\n",
        "    self.relu = nn.ReLU()\n",
        "    self.fc1 = nn.Linear(10+10, 60) # adding random number one hot to the 1x10 MNIST output\n",
        "    self.fc2 = nn.Linear(60, 30)\n",
        "    self.fc3 = nn.Linear(30, 15) # 10 for MNIST 1-hot coding, and 5 for binary repr of sum of digits\n",
        "\n",
        "  def forward(self, image, number):\n",
        "    #print(\"0 \",image.shape)\n",
        "    x = self.conv1(image)\n",
        "    #print(\"1 \",x.shape)\n",
        "    x = self.conv2(x)\n",
        "    #print(\"2 \",x.shape)\n",
        "    x = self.conv3(x)\n",
        "    #print(\"3 \",x.shape)\n",
        "    x = x.view(-1,10)\n",
        "    #print(\"after \",x.shape)\n",
        "    # concatenate the number\n",
        "    x = torch.cat((x,number),1)\n",
        "    x = self.fc1(x)\n",
        "    x = self.relu(x)\n",
        "    x = self.fc2(x)\n",
        "    x = self.relu(x)\n",
        "    x = self.fc3(x)\n",
        "    x = x.view(-1,15)\n",
        "    #print(\"In forward x shape \",x.shape)\n",
        "    \n",
        "    # The first 10 outputs should be the onehot encoding of the MNIST digit\n",
        "    # using a Log softmax (with NLL Loss) for this\n",
        "    o1 = F.log_softmax(x[:,:10])\n",
        "    #print(\"In forward o1 shape \",o1.shape)\n",
        "\n",
        "    # for the 5 digit sum outout - as it is a multi-label classification, I am using a Sigmoid and not a softmax as there\n",
        "    # will be multiple 1's in the output\n",
        "    # used Hardsigmoid as it has a more sharp curve\n",
        "    sig = nn.Hardsigmoid()\n",
        "    o2 = sig(x[:,10:])\n",
        "    #print(\"In forward o2 shape \",o2.shape)\n",
        "    return torch.cat((o1,o2),1)"
      ],
      "execution_count": 6,
      "outputs": []
    },
    {
      "cell_type": "code",
      "metadata": {
        "colab": {
          "base_uri": "https://localhost:8080/"
        },
        "id": "0b4-zt2wgaEQ",
        "outputId": "786cbaf1-74ad-4aed-993d-2ff7b91ee540"
      },
      "source": [
        "model = Model().to(device)\n",
        "print(model)\n",
        "# random test\n",
        "model.forward(torch.rand((1, 1, 28, 28)).to(device), torch.rand((1, 10)).to(device))"
      ],
      "execution_count": 32,
      "outputs": [
        {
          "output_type": "stream",
          "name": "stdout",
          "text": [
            "Model(\n",
            "  (conv1): Sequential(\n",
            "    (0): Conv2d(1, 16, kernel_size=(5, 5), stride=(1, 1))\n",
            "    (1): ReLU()\n",
            "    (2): MaxPool2d(kernel_size=2, stride=2, padding=0, dilation=1, ceil_mode=False)\n",
            "  )\n",
            "  (conv2): Sequential(\n",
            "    (0): Conv2d(16, 32, kernel_size=(5, 5), stride=(1, 1))\n",
            "    (1): ReLU()\n",
            "    (2): MaxPool2d(kernel_size=2, stride=2, padding=0, dilation=1, ceil_mode=False)\n",
            "  )\n",
            "  (conv3): Sequential(\n",
            "    (0): Conv2d(32, 10, kernel_size=(3, 3), stride=(1, 1))\n",
            "    (1): MaxPool2d(kernel_size=2, stride=2, padding=0, dilation=1, ceil_mode=False)\n",
            "  )\n",
            "  (relu): ReLU()\n",
            "  (fc1): Linear(in_features=20, out_features=60, bias=True)\n",
            "  (fc2): Linear(in_features=60, out_features=30, bias=True)\n",
            "  (fc3): Linear(in_features=30, out_features=15, bias=True)\n",
            ")\n"
          ]
        },
        {
          "output_type": "stream",
          "name": "stderr",
          "text": [
            "/usr/local/lib/python3.7/dist-packages/ipykernel_launcher.py:47: UserWarning: Implicit dimension choice for log_softmax has been deprecated. Change the call to include dim=X as an argument.\n"
          ]
        },
        {
          "output_type": "execute_result",
          "data": {
            "text/plain": [
              "tensor([[-2.1280, -2.3497, -2.3076, -2.2818, -2.1473, -2.3670, -2.3914, -2.4043,\n",
              "         -2.3156, -2.3768,  0.5047,  0.4931,  0.4800,  0.4763,  0.4750]],\n",
              "       device='cuda:0', grad_fn=<CatBackward>)"
            ]
          },
          "metadata": {},
          "execution_count": 32
        }
      ]
    },
    {
      "cell_type": "code",
      "metadata": {
        "id": "1KpjqMQBhJfv"
      },
      "source": [
        "\n",
        "def train(model, device, train_loader, optimizer, epoch, losses):\n",
        "    print(f\"EPOCH - {epoch}\")\n",
        "    model.train()\n",
        "    for batch_idx, (input, target) in enumerate(train_loader):\n",
        "        image, number, target = input[0].to(device), input[1].to(device), target.to(device)\n",
        "        # clear the grad computation\n",
        "        optimizer.zero_grad()\n",
        "        y_pred = model(image, number)  # Passing batch\n",
        "        #print(\"Input shape \", input.shape)\n",
        "        #print(len(image))\n",
        "        #print(\"Image shape \", image.shape)\n",
        "        #print(\"Number shape \", number.shape)\n",
        "        #print(\"Target shape \",target.shape)\n",
        "        #print(\"Ypred shape \",y_pred.shape)\n",
        "        \n",
        "        # Calculate loss\n",
        "        #print(target[:,0].shape)\n",
        "        #print(y_pred[:,:10])\n",
        "        # using 2 losses - one for the MNIST prediction and one for the sum (binary)\n",
        "        # using Negative log likelihood for the MNIST prediction as we used Log Softmax for the activation\n",
        "        loss_nll = nn.NLLLoss()\n",
        "        loss1 = loss_nll(y_pred[:,:10],target[:,0])\n",
        "        \n",
        "        \n",
        "        # Using Binary cross entropy for the binary sum representation\n",
        "        loss_bce = torch.nn.BCELoss()\n",
        "        loss2 = loss_bce(y_pred[:,10:].float(),target[:,1:].float())\n",
        "\n",
        "        # Total loss\n",
        "        loss=loss1+loss2\n",
        "        #print(\"Loss1 \",loss1.cpu().data.item())\n",
        "        #print(\"Loss2 \",loss2.cpu().data.item())\n",
        "        #print(\"Loss \",loss.cpu().data.item())\n",
        "        losses.append(loss.cpu().data.item())\n",
        "        \n",
        "        # Backpropagation\n",
        "        loss.backward()\n",
        "        optimizer.step()\n",
        "        # Display\n",
        "        if batch_idx % 100 == 0:\n",
        "            print('\\r Train Epoch: {}/{} \\\n",
        "            [{}/{} ({:.0f}%)]\\\n",
        "            \\tAvg Loss: {:.6f}'.format(\n",
        "                epoch+1,\n",
        "                EPOCHS,\n",
        "                batch_idx * len(image), \n",
        "                len(train_loader.dataset),\n",
        "                100. * batch_idx / len(train_loader), \n",
        "                loss.cpu().data.item()/256), \n",
        "                end='')\n",
        "\n",
        "def test(model, device, test_loader):\n",
        "    model.eval()\n",
        "    test_loss = 0\n",
        "    correct_MNIST = 0\n",
        "    correct_sum = 0\n",
        "    correct = 0\n",
        "    with torch.no_grad(): # dont compute gradients \n",
        "        for data, target in test_loader:\n",
        "            image, number, target = data[0].to(device), data[1].to(device), target.to(device)\n",
        "            # get prediction\n",
        "            output = model(image, number)\n",
        "            #print(output.shape, target.shape)\n",
        "            #print(\"Output \",output,\"\\nTarget \", target)\n",
        "            \n",
        "            # compute loss\n",
        "            loss_nll = nn.NLLLoss()\n",
        "            loss1 = loss_nll(output[:,:10],target[:,0]).item()\n",
        "            \n",
        "            loss_bce = torch.nn.BCELoss()\n",
        "            loss2 = loss_bce(output[:,10:].float(),target[:,1:].float()).item()\n",
        "            \n",
        "            loss = loss1+loss2\n",
        "            \n",
        "            #print(\"Loss1 \",loss1.cpu().data.item())\n",
        "            #print(\"Loss2 \",loss2.cpu().data.item())\n",
        "            #print(\"Loss \",loss.cpu().data.item())\n",
        "\n",
        "            test_loss += loss  # sum up batch loss\n",
        "\n",
        "            #pred = output.argmax(dim=1, keepdim=True)  # get the index of the max log-probability\n",
        "            #correct += pred.eq(target.view_as(pred)).sum().item()\n",
        "\n",
        "            pred_MNIST = output[:,:10].argmax(dim=1, keepdim=True)  # get the index of the max log-probability\n",
        "            correct_MNIST_list = pred_MNIST.eq(target[:,0].view_as(pred_MNIST))\n",
        "            correct_MNIST += correct_MNIST_list.sum().item()\n",
        "            pred_sum = output[:,10:]\n",
        "            correct_sum_list = pred_sum.eq(target[:,1:].view_as(pred_sum))\n",
        "            correct_sum += correct_sum_list.sum().item()\n",
        "            correct_list = torch.logical_and(correct_MNIST_list, correct_sum_list)\n",
        "            correct += correct_list.sum().item()\n",
        "\n",
        "    test_loss /= len(test_loader.dataset)\n",
        "\n",
        "    print('\\nTest set: Average loss: {:.4f}, \\\n",
        "        Accuracy-MNIST: {}/{} ({:.0f}%)\\t\\\n",
        "        Accuracy-sum: {}/{} ({:.0f}%)\\t\\\n",
        "        Accuracy-total: {}/{} ({:.0f}%)\\n'.format(\n",
        "        test_loss, \n",
        "        correct_MNIST, len(test_loader.dataset),\n",
        "        100. * correct_MNIST / len(test_loader.dataset),\n",
        "        correct_sum, len(test_loader.dataset),\n",
        "        100. * correct_sum / len(test_loader.dataset),\n",
        "        correct, len(test_loader.dataset),\n",
        "        100. * correct / len(test_loader.dataset)))"
      ],
      "execution_count": 24,
      "outputs": []
    },
    {
      "cell_type": "code",
      "metadata": {
        "id": "u4EPlXfr7SY-",
        "colab": {
          "base_uri": "https://localhost:8080/"
        },
        "outputId": "959de2cc-b35d-40f9-9519-b91e55f6dbbe"
      },
      "source": [
        "model = Model().to(device)\n",
        "optimizer = optim.SGD(model.parameters(), lr=0.01, momentum=0.9)\n",
        "\n",
        "EPOCHS=20\n",
        "losses = []\n",
        "\n",
        "for epoch in range(EPOCHS):\n",
        "    train(model, device, train_loader, optimizer, epoch, losses)\n",
        "    test(model, device, test_loader)\n"
      ],
      "execution_count": 29,
      "outputs": [
        {
          "output_type": "stream",
          "name": "stdout",
          "text": [
            "EPOCH - 0\n"
          ]
        },
        {
          "output_type": "stream",
          "name": "stderr",
          "text": [
            "/usr/local/lib/python3.7/dist-packages/torch/utils/data/dataloader.py:481: UserWarning: This DataLoader will create 4 worker processes in total. Our suggested max number of worker in current system is 2, which is smaller than what this DataLoader is going to create. Please be aware that excessive worker creation might get DataLoader running slow or even freeze, lower the worker number to avoid potential slowness/freeze if necessary.\n",
            "  cpuset_checked))\n",
            "/usr/local/lib/python3.7/dist-packages/ipykernel_launcher.py:47: UserWarning: Implicit dimension choice for log_softmax has been deprecated. Change the call to include dim=X as an argument.\n"
          ]
        },
        {
          "output_type": "stream",
          "name": "stdout",
          "text": [
            " Train Epoch: 1/20             [51200/60000 (85%)]            \tAvg Loss: 0.004698\n",
            "Test set: Average loss: 0.0042,         Accuracy-MNIST: 9073/10000 (91%)\t        Accuracy-sum: 4749/10000 (47%)\t        Accuracy-total: 4547/10000 (45%)\n",
            "\n",
            "EPOCH - 1\n",
            " Train Epoch: 2/20             [51200/60000 (85%)]            \tAvg Loss: 0.002582\n",
            "Test set: Average loss: 0.0030,         Accuracy-MNIST: 9634/10000 (96%)\t        Accuracy-sum: 6459/10000 (65%)\t        Accuracy-total: 6270/10000 (63%)\n",
            "\n",
            "EPOCH - 2\n",
            " Train Epoch: 3/20             [51200/60000 (85%)]            \tAvg Loss: 0.002450\n",
            "Test set: Average loss: 0.0029,         Accuracy-MNIST: 9731/10000 (97%)\t        Accuracy-sum: 7042/10000 (70%)\t        Accuracy-total: 6902/10000 (69%)\n",
            "\n",
            "EPOCH - 3\n",
            " Train Epoch: 4/20             [51200/60000 (85%)]            \tAvg Loss: 0.002783\n",
            "Test set: Average loss: 0.0030,         Accuracy-MNIST: 9786/10000 (98%)\t        Accuracy-sum: 7285/10000 (73%)\t        Accuracy-total: 7165/10000 (72%)\n",
            "\n",
            "EPOCH - 4\n",
            " Train Epoch: 5/20             [51200/60000 (85%)]            \tAvg Loss: 0.002326\n",
            "Test set: Average loss: 0.0025,         Accuracy-MNIST: 9818/10000 (98%)\t        Accuracy-sum: 6581/10000 (66%)\t        Accuracy-total: 6509/10000 (65%)\n",
            "\n",
            "EPOCH - 5\n",
            " Train Epoch: 6/20             [51200/60000 (85%)]            \tAvg Loss: 0.002612\n",
            "Test set: Average loss: 0.0029,         Accuracy-MNIST: 9733/10000 (97%)\t        Accuracy-sum: 7016/10000 (70%)\t        Accuracy-total: 6888/10000 (69%)\n",
            "\n",
            "EPOCH - 6\n",
            " Train Epoch: 7/20             [51200/60000 (85%)]            \tAvg Loss: 0.002438\n",
            "Test set: Average loss: 0.0025,         Accuracy-MNIST: 9861/10000 (99%)\t        Accuracy-sum: 6949/10000 (69%)\t        Accuracy-total: 6876/10000 (69%)\n",
            "\n",
            "EPOCH - 7\n",
            " Train Epoch: 8/20             [51200/60000 (85%)]            \tAvg Loss: 0.002384\n",
            "Test set: Average loss: 0.0026,         Accuracy-MNIST: 9855/10000 (99%)\t        Accuracy-sum: 7103/10000 (71%)\t        Accuracy-total: 7016/10000 (70%)\n",
            "\n",
            "EPOCH - 8\n",
            " Train Epoch: 9/20             [51200/60000 (85%)]            \tAvg Loss: 0.002491\n",
            "Test set: Average loss: 0.0024,         Accuracy-MNIST: 9832/10000 (98%)\t        Accuracy-sum: 6726/10000 (67%)\t        Accuracy-total: 6643/10000 (66%)\n",
            "\n",
            "EPOCH - 9\n",
            " Train Epoch: 10/20             [51200/60000 (85%)]            \tAvg Loss: 0.002388\n",
            "Test set: Average loss: 0.0024,         Accuracy-MNIST: 9854/10000 (99%)\t        Accuracy-sum: 6918/10000 (69%)\t        Accuracy-total: 6844/10000 (68%)\n",
            "\n",
            "EPOCH - 10\n",
            " Train Epoch: 11/20             [51200/60000 (85%)]            \tAvg Loss: 0.002255\n",
            "Test set: Average loss: 0.0024,         Accuracy-MNIST: 9876/10000 (99%)\t        Accuracy-sum: 7103/10000 (71%)\t        Accuracy-total: 7025/10000 (70%)\n",
            "\n",
            "EPOCH - 11\n",
            " Train Epoch: 12/20             [51200/60000 (85%)]            \tAvg Loss: 0.002285\n",
            "Test set: Average loss: 0.0024,         Accuracy-MNIST: 9843/10000 (98%)\t        Accuracy-sum: 7621/10000 (76%)\t        Accuracy-total: 7521/10000 (75%)\n",
            "\n",
            "EPOCH - 12\n",
            " Train Epoch: 13/20             [51200/60000 (85%)]            \tAvg Loss: 0.002190\n",
            "Test set: Average loss: 0.0023,         Accuracy-MNIST: 9865/10000 (99%)\t        Accuracy-sum: 7531/10000 (75%)\t        Accuracy-total: 7447/10000 (74%)\n",
            "\n",
            "EPOCH - 13\n",
            " Train Epoch: 14/20             [51200/60000 (85%)]            \tAvg Loss: 0.002547\n",
            "Test set: Average loss: 0.0023,         Accuracy-MNIST: 9859/10000 (99%)\t        Accuracy-sum: 8128/10000 (81%)\t        Accuracy-total: 8043/10000 (80%)\n",
            "\n",
            "EPOCH - 14\n",
            " Train Epoch: 15/20             [51200/60000 (85%)]            \tAvg Loss: 0.006193\n",
            "Test set: Average loss: 0.0044,         Accuracy-MNIST: 9394/10000 (94%)\t        Accuracy-sum: 6691/10000 (67%)\t        Accuracy-total: 6360/10000 (64%)\n",
            "\n",
            "EPOCH - 15\n",
            " Train Epoch: 16/20             [51200/60000 (85%)]            \tAvg Loss: 0.002497\n",
            "Test set: Average loss: 0.0026,         Accuracy-MNIST: 9769/10000 (98%)\t        Accuracy-sum: 6831/10000 (68%)\t        Accuracy-total: 6692/10000 (67%)\n",
            "\n",
            "EPOCH - 16\n",
            " Train Epoch: 17/20             [51200/60000 (85%)]            \tAvg Loss: 0.002771\n",
            "Test set: Average loss: 0.0025,         Accuracy-MNIST: 9819/10000 (98%)\t        Accuracy-sum: 7544/10000 (75%)\t        Accuracy-total: 7412/10000 (74%)\n",
            "\n",
            "EPOCH - 17\n",
            " Train Epoch: 18/20             [51200/60000 (85%)]            \tAvg Loss: 0.002303\n",
            "Test set: Average loss: 0.0024,         Accuracy-MNIST: 9826/10000 (98%)\t        Accuracy-sum: 8088/10000 (81%)\t        Accuracy-total: 7956/10000 (80%)\n",
            "\n",
            "EPOCH - 18\n",
            " Train Epoch: 19/20             [51200/60000 (85%)]            \tAvg Loss: 0.002461\n",
            "Test set: Average loss: 0.0023,         Accuracy-MNIST: 9862/10000 (99%)\t        Accuracy-sum: 8442/10000 (84%)\t        Accuracy-total: 8338/10000 (83%)\n",
            "\n",
            "EPOCH - 19\n",
            " Train Epoch: 20/20             [51200/60000 (85%)]            \tAvg Loss: 0.002242\n",
            "Test set: Average loss: 0.0022,         Accuracy-MNIST: 9845/10000 (98%)\t        Accuracy-sum: 9218/10000 (92%)\t        Accuracy-total: 9093/10000 (91%)\n",
            "\n"
          ]
        }
      ]
    },
    {
      "cell_type": "code",
      "metadata": {
        "colab": {
          "base_uri": "https://localhost:8080/",
          "height": 282
        },
        "id": "UQ2WLm9XFlY5",
        "outputId": "337fd376-4d6c-46f6-c822-578af48c7798"
      },
      "source": [
        "plot(losses)"
      ],
      "execution_count": 33,
      "outputs": [
        {
          "output_type": "execute_result",
          "data": {
            "text/plain": [
              "[<matplotlib.lines.Line2D at 0x7fb0e489a990>]"
            ]
          },
          "metadata": {},
          "execution_count": 33
        },
        {
          "output_type": "display_data",
          "data": {
            "image/png": "[encoded data removed]",
            "text/plain": [
              "<Figure size 432x288 with 1 Axes>"
            ]
          },
          "metadata": {
            "needs_background": "light"
          }
        }
      ]
    },
    {
      "cell_type": "markdown",
      "metadata": {
        "id": "J6MIPulGF3It"
      },
      "source": [
        "## Evaluate"
      ]
    },
    {
      "cell_type": "code",
      "metadata": {
        "id": "zW-RbqX5F3It"
      },
      "source": [
        "evaluate_x = Variable(test_loader.dataset.data.type_as(torch.FloatTensor()))\n",
        "evaluate_y = Variable(test_loader.dataset.targets)\n",
        "if cuda:\n",
        "    evaluate_x, evaluate_y = evaluate_x.cuda(), evaluate_y.cuda()\n",
        "\n",
        "model.eval()\n",
        "output = model(evaluate_x)\n",
        "pred = output.data.max(1)[1]\n",
        "d = pred.eq(evaluate_y.data).cpu()\n",
        "accuracy = d.sum().item()/d.size().numel()\n",
        "\n",
        "print('Accuracy:', accuracy*100.0)"
      ],
      "execution_count": null,
      "outputs": []
    },
    {
      "cell_type": "code",
      "metadata": {
        "id": "kn7xNEYxzqwB"
      },
      "source": [
        "npi = evaluate_x.cpu().detach().numpy()\n",
        "npo = output.cpu().detach().numpy()\n",
        "for index in range(1):\n",
        "  print(npi[index])\n",
        "  print(npo[index])"
      ],
      "execution_count": null,
      "outputs": []
    },
    {
      "cell_type": "code",
      "metadata": {
        "id": "OLSGOG-Vz5CN"
      },
      "source": [
        ""
      ],
      "execution_count": null,
      "outputs": []
    },
    {
      "cell_type": "code",
      "metadata": {
        "id": "VxuZSmx2LjbK"
      },
      "source": [
        "dummy_input = torch.randn(784, device='cuda')\n",
        "torch.onnx.export(model, (dummy_input), \"mnist.onnx\", verbose=True)\n",
        "#                  input_names=input_names, output_names=output_names)\n"
      ],
      "execution_count": null,
      "outputs": []
    },
    {
      "cell_type": "code",
      "metadata": {
        "id": "ZYSqvJE77p8S"
      },
      "source": [
        "pip install onnx==1.5.0\n"
      ],
      "execution_count": null,
      "outputs": []
    },
    {
      "cell_type": "code",
      "metadata": {
        "id": "80r-Xl5M7xnT"
      },
      "source": [
        "import onnx\n",
        "model=onnx.load_model('mnist.onnx')\n",
        "print(model)"
      ],
      "execution_count": null,
      "outputs": []
    }
  ]
}