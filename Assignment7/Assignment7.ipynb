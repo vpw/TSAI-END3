{
  "cells": [
    {
      "cell_type": "markdown",
      "metadata": {
        "id": "view-in-github",
        "colab_type": "text"
      },
      "source": [
        "<a href=\"https://colab.research.google.com/github/vpw/TSAI-END3/blob/main/Assignment7/Assignment7.ipynb\" target=\"_parent\"><img src=\"https://colab.research.google.com/assets/colab-badge.svg\" alt=\"Open In Colab\"/></a>"
      ]
    },
    {
      "cell_type": "code",
      "execution_count": 58,
      "metadata": {
        "id": "iY72sxaMwRd4"
      },
      "outputs": [],
      "source": [
        "%matplotlib inline"
      ]
    },
    {
      "cell_type": "code",
      "execution_count": 2,
      "metadata": {
        "id": "l9YybvL_wReH"
      },
      "outputs": [],
      "source": [
        "from __future__ import unicode_literals, print_function, division\n",
        "from io import open\n",
        "import unicodedata\n",
        "import string\n",
        "import re\n",
        "import random\n",
        "import math\n",
        "\n",
        "import torch\n",
        "import torch.nn as nn\n",
        "from torch import optim\n",
        "import torch.nn.functional as F\n",
        "\n",
        "device = torch.device(\"cuda\" if torch.cuda.is_available() else \"cpu\")"
      ]
    },
    {
      "cell_type": "code",
      "source": [
        "!wget https://download.pytorch.org/tutorial/data.zip\n",
        "!unzip data.zip"
      ],
      "metadata": {
        "colab": {
          "base_uri": "https://localhost:8080/"
        },
        "id": "-x0JOfDXw3_J",
        "outputId": "bbb45aac-7459-44ea-df84-fe30b0146cf5"
      },
      "execution_count": 3,
      "outputs": [
        {
          "output_type": "stream",
          "name": "stdout",
          "text": [
            "--2021-12-18 13:00:26--  https://download.pytorch.org/tutorial/data.zip\n",
            "Resolving download.pytorch.org (download.pytorch.org)... 13.224.160.89, 13.224.160.7, 13.224.160.39, ...\n",
            "Connecting to download.pytorch.org (download.pytorch.org)|13.224.160.89|:443... connected.\n",
            "HTTP request sent, awaiting response... 200 OK\n",
            "Length: 2882130 (2.7M) [application/zip]\n",
            "Saving to: ‘data.zip’\n",
            "\n",
            "data.zip            100%[===================>]   2.75M  --.-KB/s    in 0.1s    \n",
            "\n",
            "2021-12-18 13:00:27 (25.5 MB/s) - ‘data.zip’ saved [2882130/2882130]\n",
            "\n",
            "Archive:  data.zip\n",
            "   creating: data/\n",
            "  inflating: data/eng-fra.txt        \n",
            "   creating: data/names/\n",
            "  inflating: data/names/Arabic.txt   \n",
            "  inflating: data/names/Chinese.txt  \n",
            "  inflating: data/names/Czech.txt    \n",
            "  inflating: data/names/Dutch.txt    \n",
            "  inflating: data/names/English.txt  \n",
            "  inflating: data/names/French.txt   \n",
            "  inflating: data/names/German.txt   \n",
            "  inflating: data/names/Greek.txt    \n",
            "  inflating: data/names/Irish.txt    \n",
            "  inflating: data/names/Italian.txt  \n",
            "  inflating: data/names/Japanese.txt  \n",
            "  inflating: data/names/Korean.txt   \n",
            "  inflating: data/names/Polish.txt   \n",
            "  inflating: data/names/Portuguese.txt  \n",
            "  inflating: data/names/Russian.txt  \n",
            "  inflating: data/names/Scottish.txt  \n",
            "  inflating: data/names/Spanish.txt  \n",
            "  inflating: data/names/Vietnamese.txt  \n"
          ]
        }
      ]
    },
    {
      "cell_type": "code",
      "execution_count": 4,
      "metadata": {
        "id": "MkOy1HyvwReM"
      },
      "outputs": [],
      "source": [
        "SOS_token = 0\n",
        "EOS_token = 1\n",
        "\n",
        "\n",
        "class Lang:\n",
        "    def __init__(self, name):\n",
        "        self.name = name\n",
        "        self.word2index = {}\n",
        "        self.word2count = {}\n",
        "        self.index2word = {0: \"SOS\", 1: \"EOS\"}\n",
        "        self.n_words = 2  # Count SOS and EOS\n",
        "\n",
        "    def addSentence(self, sentence):\n",
        "        for word in sentence.split(' '):\n",
        "            self.addWord(word)\n",
        "\n",
        "    def addWord(self, word):\n",
        "        if word not in self.word2index:\n",
        "            self.word2index[word] = self.n_words\n",
        "            self.word2count[word] = 1\n",
        "            self.index2word[self.n_words] = word\n",
        "            self.n_words += 1\n",
        "        else:\n",
        "            self.word2count[word] += 1"
      ]
    },
    {
      "cell_type": "code",
      "execution_count": 5,
      "metadata": {
        "id": "lYA-PRPywReQ"
      },
      "outputs": [],
      "source": [
        "# Turn a Unicode string to plain ASCII, thanks to\n",
        "# https://stackoverflow.com/a/518232/2809427\n",
        "def unicodeToAscii(s):\n",
        "    return ''.join(\n",
        "        c for c in unicodedata.normalize('NFD', s)\n",
        "        if unicodedata.category(c) != 'Mn'\n",
        "    )\n",
        "\n",
        "# Lowercase, trim, and remove non-letter characters\n",
        "\n",
        "\n",
        "def normalizeString(s):\n",
        "    s = unicodeToAscii(s.lower().strip())\n",
        "    s = re.sub(r\"([.!?])\", r\" \\1\", s)\n",
        "    s = re.sub(r\"[^a-zA-Z.!?]+\", r\" \", s)\n",
        "    return s"
      ]
    },
    {
      "cell_type": "code",
      "execution_count": 6,
      "metadata": {
        "id": "zGFjOlLIwReU"
      },
      "outputs": [],
      "source": [
        "def readLangs(lang1, lang2, reverse=False):\n",
        "    print(\"Reading lines...\")\n",
        "\n",
        "    # Read the file and split into lines\n",
        "    lines = open('data/%s-%s.txt' % (lang1, lang2), encoding='utf-8').\\\n",
        "        read().strip().split('\\n')\n",
        "\n",
        "    # Split every line into pairs and normalize\n",
        "    pairs = [[normalizeString(s) for s in l.split('\\t')] for l in lines]\n",
        "\n",
        "    # Reverse pairs, make Lang instances\n",
        "    if reverse:\n",
        "        pairs = [list(reversed(p)) for p in pairs]\n",
        "        input_lang = Lang(lang2)\n",
        "        output_lang = Lang(lang1)\n",
        "    else:\n",
        "        input_lang = Lang(lang1)\n",
        "        output_lang = Lang(lang2)\n",
        "\n",
        "    return input_lang, output_lang, pairs"
      ]
    },
    {
      "cell_type": "code",
      "execution_count": 7,
      "metadata": {
        "id": "0Y9TYCk8wReX"
      },
      "outputs": [],
      "source": [
        "MAX_LENGTH = 10\n",
        "\n",
        "eng_prefixes = (\n",
        "    \"i am \", \"i m \",\n",
        "    \"he is\", \"he s \",\n",
        "    \"she is\", \"she s \",\n",
        "    \"you are\", \"you re \",\n",
        "    \"we are\", \"we re \",\n",
        "    \"they are\", \"they re \"\n",
        ")\n",
        "\n",
        "\n",
        "def filterPair(p):\n",
        "    return len(p[0].split(' ')) < MAX_LENGTH and \\\n",
        "        len(p[1].split(' ')) < MAX_LENGTH and \\\n",
        "        p[1].startswith(eng_prefixes)\n",
        "\n",
        "\n",
        "def filterPairs(pairs):\n",
        "    return [pair for pair in pairs if filterPair(pair)]"
      ]
    },
    {
      "cell_type": "code",
      "execution_count": 8,
      "metadata": {
        "id": "EuxckEb_wReZ",
        "colab": {
          "base_uri": "https://localhost:8080/"
        },
        "outputId": "63dc210c-e147-48a2-8fe0-24dfe2b0ab1a"
      },
      "outputs": [
        {
          "output_type": "stream",
          "name": "stdout",
          "text": [
            "Reading lines...\n",
            "Read 135842 sentence pairs\n",
            "Trimmed to 10599 sentence pairs\n",
            "Counting words...\n",
            "Counted words:\n",
            "fra 4345\n",
            "eng 2803\n",
            "['je suis seulement fatiguee .', 'i m just tired .']\n"
          ]
        }
      ],
      "source": [
        "def prepareData(lang1, lang2, reverse=False):\n",
        "    input_lang, output_lang, pairs = readLangs(lang1, lang2, reverse)\n",
        "    print(\"Read %s sentence pairs\" % len(pairs))\n",
        "    pairs = filterPairs(pairs)\n",
        "    print(\"Trimmed to %s sentence pairs\" % len(pairs))\n",
        "    print(\"Counting words...\")\n",
        "    for pair in pairs:\n",
        "        input_lang.addSentence(pair[0])\n",
        "        output_lang.addSentence(pair[1])\n",
        "    print(\"Counted words:\")\n",
        "    print(input_lang.name, input_lang.n_words)\n",
        "    print(output_lang.name, output_lang.n_words)\n",
        "    return input_lang, output_lang, pairs\n",
        "\n",
        "\n",
        "input_lang, output_lang, pairs = prepareData('eng', 'fra', True)\n",
        "print(random.choice(pairs))"
      ]
    },
    {
      "cell_type": "code",
      "execution_count": 9,
      "metadata": {
        "id": "a_fLYEzawReb"
      },
      "outputs": [],
      "source": [
        "class EncoderRNN(nn.Module):\n",
        "    def __init__(self, input_size, hidden_size):\n",
        "        super(EncoderRNN, self).__init__()\n",
        "        self.hidden_size = hidden_size\n",
        "\n",
        "        self.embedding = nn.Embedding(input_size, hidden_size)\n",
        "        self.gru = nn.GRU(hidden_size, hidden_size)\n",
        "\n",
        "    def forward(self, input, hidden):\n",
        "        embedded = self.embedding(input).view(1, 1, -1)\n",
        "        output = embedded\n",
        "        output, hidden = self.gru(output, hidden)\n",
        "        return output, hidden\n",
        "\n",
        "    def initHidden(self):\n",
        "        return torch.zeros(1, 1, self.hidden_size, device=device)"
      ]
    },
    {
      "cell_type": "code",
      "execution_count": 10,
      "metadata": {
        "id": "wmhSpAmuwRed"
      },
      "outputs": [],
      "source": [
        "class DecoderRNN(nn.Module):\n",
        "    def __init__(self, hidden_size, output_size):\n",
        "        super(DecoderRNN, self).__init__()\n",
        "        self.hidden_size = hidden_size\n",
        "\n",
        "        self.embedding = nn.Embedding(output_size, hidden_size)\n",
        "        self.gru = nn.GRU(hidden_size, hidden_size)\n",
        "        self.out = nn.Linear(hidden_size, output_size)\n",
        "        self.softmax = nn.LogSoftmax(dim=1)\n",
        "\n",
        "    def forward(self, input, hidden):\n",
        "        output = self.embedding(input).view(1, 1, -1)\n",
        "        output = F.relu(output)\n",
        "        output, hidden = self.gru(output, hidden)\n",
        "        output = self.softmax(self.out(output[0]))\n",
        "        return output, hidden\n",
        "\n",
        "    def initHidden(self):\n",
        "        return torch.zeros(1, 1, self.hidden_size, device=device)"
      ]
    },
    {
      "cell_type": "code",
      "execution_count": 11,
      "metadata": {
        "id": "0SwBcupIwRef"
      },
      "outputs": [],
      "source": [
        "class AttnDecoderRNN(nn.Module):\n",
        "    def __init__(self, hidden_size, output_size, dropout_p=0.1, max_length=MAX_LENGTH):\n",
        "        super(AttnDecoderRNN, self).__init__()\n",
        "        self.hidden_size = hidden_size\n",
        "        self.output_size = output_size\n",
        "        self.dropout_p = dropout_p\n",
        "        self.max_length = max_length\n",
        "\n",
        "        self.embedding = nn.Embedding(self.output_size, self.hidden_size)\n",
        "        self.attn = nn.Linear(self.hidden_size * 2, self.max_length)\n",
        "        self.attn_combine = nn.Linear(self.hidden_size * 2, self.hidden_size)\n",
        "        self.dropout = nn.Dropout(self.dropout_p)\n",
        "        self.gru = nn.GRU(self.hidden_size, self.hidden_size)\n",
        "        self.out = nn.Linear(self.hidden_size, self.output_size)\n",
        "\n",
        "    def forward(self, input, hidden, encoder_outputs):\n",
        "        embedded = self.embedding(input).view(1, 1, -1)\n",
        "        embedded = self.dropout(embedded)\n",
        "\n",
        "        attn_weights = F.softmax(\n",
        "            self.attn(torch.cat((embedded[0], hidden[0]), 1)), dim=1)\n",
        "        attn_applied = torch.bmm(attn_weights.unsqueeze(0),\n",
        "                                 encoder_outputs.unsqueeze(0))\n",
        "\n",
        "        output = torch.cat((embedded[0], attn_applied[0]), 1)\n",
        "        output = self.attn_combine(output).unsqueeze(0)\n",
        "\n",
        "        output = F.relu(output)\n",
        "        output, hidden = self.gru(output, hidden)\n",
        "\n",
        "        output = F.log_softmax(self.out(output[0]), dim=1)\n",
        "        return output, hidden, attn_weights\n",
        "\n",
        "    def initHidden(self):\n",
        "        return torch.zeros(1, 1, self.hidden_size, device=device)"
      ]
    },
    {
      "cell_type": "code",
      "execution_count": 12,
      "metadata": {
        "id": "0D8CBb-rwReh"
      },
      "outputs": [],
      "source": [
        "def indexesFromSentence(lang, sentence):\n",
        "    return [lang.word2index[word] for word in sentence.split(' ')]\n",
        "\n",
        "\n",
        "def tensorFromSentence(lang, sentence):\n",
        "    indexes = indexesFromSentence(lang, sentence)\n",
        "    indexes.append(EOS_token)\n",
        "    return torch.tensor(indexes, dtype=torch.long, device=device).view(-1, 1)\n",
        "\n",
        "\n",
        "def tensorsFromPair(pair):\n",
        "    input_tensor = tensorFromSentence(input_lang, pair[0])\n",
        "    target_tensor = tensorFromSentence(output_lang, pair[1])\n",
        "    return (input_tensor, target_tensor)"
      ]
    },
    {
      "cell_type": "code",
      "execution_count": 13,
      "metadata": {
        "id": "CayfXufGwRej"
      },
      "outputs": [],
      "source": [
        "teacher_forcing_ratio = 0.5\n",
        "\n",
        "\n",
        "def train(input_tensor, target_tensor, encoder, decoder, encoder_optimizer, decoder_optimizer, criterion, max_length=MAX_LENGTH):\n",
        "    encoder_hidden = encoder.initHidden()\n",
        "\n",
        "    encoder_optimizer.zero_grad()\n",
        "    decoder_optimizer.zero_grad()\n",
        "\n",
        "    input_length = input_tensor.size(0)\n",
        "    target_length = target_tensor.size(0)\n",
        "\n",
        "    encoder_outputs = torch.zeros(max_length, encoder.hidden_size, device=device)\n",
        "\n",
        "    loss = 0\n",
        "\n",
        "    for ei in range(input_length):\n",
        "        encoder_output, encoder_hidden = encoder(\n",
        "            input_tensor[ei], encoder_hidden)\n",
        "        encoder_outputs[ei] = encoder_output[0, 0]\n",
        "\n",
        "    decoder_input = torch.tensor([[SOS_token]], device=device)\n",
        "\n",
        "    decoder_hidden = encoder_hidden\n",
        "\n",
        "    use_teacher_forcing = True if random.random() < teacher_forcing_ratio else False\n",
        "\n",
        "    if use_teacher_forcing:\n",
        "        # Teacher forcing: Feed the target as the next input\n",
        "        for di in range(target_length):\n",
        "            decoder_output, decoder_hidden, decoder_attention = decoder(\n",
        "                decoder_input, decoder_hidden, encoder_outputs)\n",
        "            loss += criterion(decoder_output, target_tensor[di])\n",
        "            decoder_input = target_tensor[di]  # Teacher forcing\n",
        "\n",
        "    else:\n",
        "        # Without teacher forcing: use its own predictions as the next input\n",
        "        for di in range(target_length):\n",
        "            decoder_output, decoder_hidden, decoder_attention = decoder(\n",
        "                decoder_input, decoder_hidden, encoder_outputs)\n",
        "            topv, topi = decoder_output.topk(1)\n",
        "            decoder_input = topi.squeeze().detach()  # detach from history as input\n",
        "\n",
        "            loss += criterion(decoder_output, target_tensor[di])\n",
        "            if decoder_input.item() == EOS_token:\n",
        "                break\n",
        "\n",
        "    loss.backward()\n",
        "\n",
        "    encoder_optimizer.step()\n",
        "    decoder_optimizer.step()\n",
        "\n",
        "    return loss.item() / target_length"
      ]
    },
    {
      "cell_type": "code",
      "execution_count": 14,
      "metadata": {
        "id": "nMtBhxwNwRek"
      },
      "outputs": [],
      "source": [
        "import time\n",
        "import math\n",
        "\n",
        "\n",
        "def asMinutes(s):\n",
        "    m = math.floor(s / 60)\n",
        "    s -= m * 60\n",
        "    return '%dm %ds' % (m, s)\n",
        "\n",
        "\n",
        "def timeSince(since, percent):\n",
        "    now = time.time()\n",
        "    s = now - since\n",
        "    es = s / (percent)\n",
        "    rs = es - s\n",
        "    return '%s (- %s)' % (asMinutes(s), asMinutes(rs))"
      ]
    },
    {
      "cell_type": "code",
      "execution_count": 15,
      "metadata": {
        "id": "HoLdpjh7wRen"
      },
      "outputs": [],
      "source": [
        "def evaluate(encoder, decoder, sentence, max_length=MAX_LENGTH):\n",
        "    with torch.no_grad():\n",
        "        input_tensor = tensorFromSentence(input_lang, sentence)\n",
        "        input_length = input_tensor.size()[0]\n",
        "        encoder_hidden = encoder.initHidden()\n",
        "\n",
        "        encoder_outputs = torch.zeros(max_length, encoder.hidden_size, device=device)\n",
        "\n",
        "        for ei in range(input_length):\n",
        "            encoder_output, encoder_hidden = encoder(input_tensor[ei],\n",
        "                                                     encoder_hidden)\n",
        "            encoder_outputs[ei] += encoder_output[0, 0]\n",
        "\n",
        "        decoder_input = torch.tensor([[SOS_token]], device=device)  # SOS\n",
        "\n",
        "        decoder_hidden = encoder_hidden\n",
        "\n",
        "        decoded_words = []\n",
        "        decoder_attentions = torch.zeros(max_length, max_length)\n",
        "\n",
        "        for di in range(max_length):\n",
        "            decoder_output, decoder_hidden, decoder_attention = decoder(\n",
        "                decoder_input, decoder_hidden, encoder_outputs)\n",
        "            decoder_attentions[di] = decoder_attention.data\n",
        "            topv, topi = decoder_output.data.topk(1)\n",
        "            if topi.item() == EOS_token:\n",
        "                decoded_words.append('<EOS>')\n",
        "                break\n",
        "            else:\n",
        "                decoded_words.append(output_lang.index2word[topi.item()])\n",
        "\n",
        "            decoder_input = topi.squeeze().detach()\n",
        "\n",
        "        return decoded_words, decoder_attentions[:di + 1]"
      ]
    },
    {
      "cell_type": "markdown",
      "source": [
        "Function to get a sample of the actual target and the predicted output for n random samples."
      ],
      "metadata": {
        "id": "Qm5BcskfHe83"
      }
    },
    {
      "cell_type": "code",
      "source": [
        "def getTgtPred(encoder, decoder, n=1000):\n",
        "  tgt, pred = [], []\n",
        "  for i in range(n):\n",
        "    pair = random.choice(pairs)\n",
        "    output_words, attentions = evaluate(encoder, decoder, pair[0])\n",
        "    output_sentence = ' '.join(output_words[:-1])\n",
        "    \n",
        "    tgt.append(pair[1])\n",
        "    pred.append(output_sentence)\n",
        "  \n",
        "  #print(f\"Len tgt {len(tgt)}, Len pred {len(pred)}\")\n",
        "  #print(pred[:5], '\\n', tgt[:5])\n",
        "    \n",
        "  return tgt, pred\n",
        "\n",
        "#tgt, pred = getOutPred(encoder1, attn_decoder1)"
      ],
      "metadata": {
        "id": "S-Dnb7ny2G5H"
      },
      "execution_count": 85,
      "outputs": []
    },
    {
      "cell_type": "markdown",
      "source": [
        "To get precision, recall and f-score I am using the function precision_recall_fscore_support from sklearn. Computing the y_true and y_pred needed for this function. y_true and y_pred must match when the target matches the precidted value, in this case I am using a simple == to match the output sentences (I could have used a different similarity metric instead as well (I think)!)"
      ],
      "metadata": {
        "id": "adT0j4X5H9Fz"
      }
    },
    {
      "cell_type": "code",
      "source": [
        "from sklearn.metrics import precision_recall_fscore_support\n",
        "\n",
        "def getYtrueYpred(tgt, pred):\n",
        "  y_true, y_pred = [], []\n",
        "  for t, p in zip(tgt, pred):\n",
        "    posneg = random.randint(0,1)\n",
        "    y_true.append(posneg)\n",
        "    if (t==p):\n",
        "      y_pred.append(posneg)\n",
        "    else:\n",
        "      y_pred.append(1-posneg)\n",
        "\n",
        "  return y_true, y_pred\n",
        "\n",
        "#y_true, y_pred = getYtrueYpred(out,pred) \n",
        "#print(precision_recall_fscore_support(y_true,y_pred, average='micro', zero_division=0))"
      ],
      "metadata": {
        "id": "dDcHC5SF3Arf"
      },
      "execution_count": 162,
      "outputs": []
    },
    {
      "cell_type": "markdown",
      "source": [
        "For the BLEU score I am using torchtext bleu_score which needs the candidate and reference corpii, which is computed first."
      ],
      "metadata": {
        "id": "5e7Lz6PmItiy"
      }
    },
    {
      "cell_type": "code",
      "source": [
        "from torchtext.data.metrics import bleu_score\n",
        "\n",
        "def prepareBLEUCorpus(tgt, pred):\n",
        "  candidate_corpus, reference_corpus = [], []\n",
        "  for r, c in zip(tgt, pred):\n",
        "    candidate_corpus.append(c.split(' '))\n",
        "    reference_corpus.append([r.split(' ')])\n",
        "  return candidate_corpus, reference_corpus\n",
        "#candidate_corpus, reference_corpus = prepareBLEUCorpus(out, pred)\n",
        "#print(bleu_score(candidate_corpus, reference_corpus))"
      ],
      "metadata": {
        "id": "Xa_r7nhs6vmM"
      },
      "execution_count": 37,
      "outputs": []
    },
    {
      "cell_type": "markdown",
      "source": [
        "BERT score is taken based on the reference given in the tutorial session."
      ],
      "metadata": {
        "id": "s8b6UAygKmiX"
      }
    },
    {
      "cell_type": "code",
      "source": [
        "#https://github.com/Tiiiger/bert_score/blob/master/example/Demo.ipynb\n",
        "# https://github.com/Tiiiger/bert_score/blob/master/bert_score/scorer.py\n",
        "\n",
        "!pip install bert-score"
      ],
      "metadata": {
        "id": "FFusvl7ugAZ0",
        "colab": {
          "base_uri": "https://localhost:8080/"
        },
        "outputId": "fc2b0a5d-8cca-42dd-d3bb-8bdedec2720f"
      },
      "execution_count": 18,
      "outputs": [
        {
          "output_type": "stream",
          "name": "stdout",
          "text": [
            "Collecting bert-score\n",
            "  Downloading bert_score-0.3.11-py3-none-any.whl (60 kB)\n",
            "\u001b[?25l\r\u001b[K     |█████▌                          | 10 kB 21.2 MB/s eta 0:00:01\r\u001b[K     |███████████                     | 20 kB 10.3 MB/s eta 0:00:01\r\u001b[K     |████████████████▍               | 30 kB 6.4 MB/s eta 0:00:01\r\u001b[K     |█████████████████████▉          | 40 kB 3.7 MB/s eta 0:00:01\r\u001b[K     |███████████████████████████▎    | 51 kB 4.2 MB/s eta 0:00:01\r\u001b[K     |████████████████████████████████| 60 kB 3.0 MB/s \n",
            "\u001b[?25hRequirement already satisfied: tqdm>=4.31.1 in /usr/local/lib/python3.7/dist-packages (from bert-score) (4.62.3)\n",
            "Requirement already satisfied: torch>=1.0.0 in /usr/local/lib/python3.7/dist-packages (from bert-score) (1.10.0+cu111)\n",
            "Requirement already satisfied: matplotlib in /usr/local/lib/python3.7/dist-packages (from bert-score) (3.2.2)\n",
            "Requirement already satisfied: packaging>=20.9 in /usr/local/lib/python3.7/dist-packages (from bert-score) (21.3)\n",
            "Requirement already satisfied: requests in /usr/local/lib/python3.7/dist-packages (from bert-score) (2.23.0)\n",
            "Requirement already satisfied: pandas>=1.0.1 in /usr/local/lib/python3.7/dist-packages (from bert-score) (1.1.5)\n",
            "Collecting transformers>=3.0.0numpy\n",
            "  Downloading transformers-4.14.1-py3-none-any.whl (3.4 MB)\n",
            "\u001b[K     |████████████████████████████████| 3.4 MB 8.8 MB/s \n",
            "\u001b[?25hRequirement already satisfied: pyparsing!=3.0.5,>=2.0.2 in /usr/local/lib/python3.7/dist-packages (from packaging>=20.9->bert-score) (3.0.6)\n",
            "Requirement already satisfied: numpy>=1.15.4 in /usr/local/lib/python3.7/dist-packages (from pandas>=1.0.1->bert-score) (1.19.5)\n",
            "Requirement already satisfied: pytz>=2017.2 in /usr/local/lib/python3.7/dist-packages (from pandas>=1.0.1->bert-score) (2018.9)\n",
            "Requirement already satisfied: python-dateutil>=2.7.3 in /usr/local/lib/python3.7/dist-packages (from pandas>=1.0.1->bert-score) (2.8.2)\n",
            "Requirement already satisfied: six>=1.5 in /usr/local/lib/python3.7/dist-packages (from python-dateutil>=2.7.3->pandas>=1.0.1->bert-score) (1.15.0)\n",
            "Requirement already satisfied: typing-extensions in /usr/local/lib/python3.7/dist-packages (from torch>=1.0.0->bert-score) (3.10.0.2)\n",
            "Requirement already satisfied: regex!=2019.12.17 in /usr/local/lib/python3.7/dist-packages (from transformers>=3.0.0numpy->bert-score) (2019.12.20)\n",
            "Collecting tokenizers<0.11,>=0.10.1\n",
            "  Downloading tokenizers-0.10.3-cp37-cp37m-manylinux_2_5_x86_64.manylinux1_x86_64.manylinux_2_12_x86_64.manylinux2010_x86_64.whl (3.3 MB)\n",
            "\u001b[K     |████████████████████████████████| 3.3 MB 40.9 MB/s \n",
            "\u001b[?25hRequirement already satisfied: importlib-metadata in /usr/local/lib/python3.7/dist-packages (from transformers>=3.0.0numpy->bert-score) (4.8.2)\n",
            "Collecting pyyaml>=5.1\n",
            "  Downloading PyYAML-6.0-cp37-cp37m-manylinux_2_5_x86_64.manylinux1_x86_64.manylinux_2_12_x86_64.manylinux2010_x86_64.whl (596 kB)\n",
            "\u001b[K     |████████████████████████████████| 596 kB 40.8 MB/s \n",
            "\u001b[?25hRequirement already satisfied: filelock in /usr/local/lib/python3.7/dist-packages (from transformers>=3.0.0numpy->bert-score) (3.4.0)\n",
            "Collecting huggingface-hub<1.0,>=0.1.0\n",
            "  Downloading huggingface_hub-0.2.1-py3-none-any.whl (61 kB)\n",
            "\u001b[K     |████████████████████████████████| 61 kB 539 kB/s \n",
            "\u001b[?25hCollecting sacremoses\n",
            "  Downloading sacremoses-0.0.46-py3-none-any.whl (895 kB)\n",
            "\u001b[K     |████████████████████████████████| 895 kB 42.7 MB/s \n",
            "\u001b[?25hRequirement already satisfied: zipp>=0.5 in /usr/local/lib/python3.7/dist-packages (from importlib-metadata->transformers>=3.0.0numpy->bert-score) (3.6.0)\n",
            "Requirement already satisfied: kiwisolver>=1.0.1 in /usr/local/lib/python3.7/dist-packages (from matplotlib->bert-score) (1.3.2)\n",
            "Requirement already satisfied: cycler>=0.10 in /usr/local/lib/python3.7/dist-packages (from matplotlib->bert-score) (0.11.0)\n",
            "Requirement already satisfied: idna<3,>=2.5 in /usr/local/lib/python3.7/dist-packages (from requests->bert-score) (2.10)\n",
            "Requirement already satisfied: urllib3!=1.25.0,!=1.25.1,<1.26,>=1.21.1 in /usr/local/lib/python3.7/dist-packages (from requests->bert-score) (1.24.3)\n",
            "Requirement already satisfied: chardet<4,>=3.0.2 in /usr/local/lib/python3.7/dist-packages (from requests->bert-score) (3.0.4)\n",
            "Requirement already satisfied: certifi>=2017.4.17 in /usr/local/lib/python3.7/dist-packages (from requests->bert-score) (2021.10.8)\n",
            "Requirement already satisfied: click in /usr/local/lib/python3.7/dist-packages (from sacremoses->transformers>=3.0.0numpy->bert-score) (7.1.2)\n",
            "Requirement already satisfied: joblib in /usr/local/lib/python3.7/dist-packages (from sacremoses->transformers>=3.0.0numpy->bert-score) (1.1.0)\n",
            "Installing collected packages: pyyaml, tokenizers, sacremoses, huggingface-hub, transformers, bert-score\n",
            "  Attempting uninstall: pyyaml\n",
            "    Found existing installation: PyYAML 3.13\n",
            "    Uninstalling PyYAML-3.13:\n",
            "      Successfully uninstalled PyYAML-3.13\n",
            "Successfully installed bert-score-0.3.11 huggingface-hub-0.2.1 pyyaml-6.0 sacremoses-0.0.46 tokenizers-0.10.3 transformers-4.14.1\n"
          ]
        }
      ]
    },
    {
      "cell_type": "code",
      "source": [
        "from bert_score import BERTScorer\n",
        "bert_scorer = BERTScorer(lang=\"en\", rescale_with_baseline=True)\n",
        "from torch import mean"
      ],
      "metadata": {
        "colab": {
          "base_uri": "https://localhost:8080/",
          "height": 249,
          "referenced_widgets": [
            "5cef3d677f5544aea7103eede9220faf",
            "ff3a48114ca44d058025377d5f86f1c5",
            "6f203676f1ca4520bc4b83fd5de44742",
            "b098ec0dd2c64070b6dcf81cbf777c6d",
            "85c07f6528bb411f92a0d7f4338bc793",
            "645830fa4011455980545b9976f51089",
            "4c1a5bf84bb442589ef9b526bce45089",
            "9116374fc588429d8bdc5c07f3f2f69a",
            "9c66bd9b15ea45e2a218086ffd005d53",
            "cee9aa72bfee4e42a6adba1dd4d5f157",
            "504c5bdb358340c48d8e868c02ff0f1b",
            "24bf759917f146999da4d221d4eaa98a",
            "6da5aa9fd6df48c5a8c7317039ef1494",
            "b80d46fc319042faac62a475d026a2f9",
            "0607a44e93254508b7b0356c19f78174",
            "f9a5c58709e844cda77b6fa4421f86e4",
            "409f2b9d25964dc6a0b5a4d94f089578",
            "ee586747b9c948ed95777332449c323d",
            "00d0d7d842b84958b0d475724ea7ec87",
            "e076aba646a7486db4f8e971d1bc5c48",
            "50dc26b582764a568f0c2a3bd50e5de5",
            "7e66883723bc44f893baffc2ea5dee49",
            "a49324032d114da2921251a61e8fdfa0",
            "85f4332d042e4e83b60a8e3e8f6ac647",
            "d9301c647c8047a5a05723578c7d92bd",
            "a1f5204f3bac41f69d3121676f12b32b",
            "29c4d1b2092241d28ebd96dcdd3d633b",
            "45ef4d08d4264b228293c14b1addc7ee",
            "7bb8b749e0a14e998c39803bbf507d8b",
            "89eceed980f6460dacc1aaeea4533cdb",
            "4286d01fca974fc6ab9adfb424232cc0",
            "c15cd171098944448f49984c76ff3cc2",
            "b0e8e4051bdb4b2c8e569ac9ca694f36",
            "2a7af9bd2236429f9117190a871e412c",
            "013aa6b4ec6f4feabe9515df1d63ec2a",
            "0ef1eb1a3fd54ce98af950a675e7e763",
            "c3ebe99f1aa94e91a4f315f96afc2929",
            "8f32c7bb4c9c4afbb1581b0c659f6e0a",
            "d0afccdd82f44b788c90e3aa6fd8445a",
            "888d91f613bb4148b33ff68c27bf6739",
            "33e3bea02a454e7ba9aaf94f81160d3d",
            "721b9e6facbe4ff2823a55d24e1b5bf3",
            "75be28c804714e5b803ef3058e18e3e8",
            "0295244eac6b4d68bf31393f199c8ef8",
            "7207cd4c6d89428dacd9ea6a33b9a27d",
            "38b541ca8c57423baca178e54de87754",
            "348aef4a18d14c1b9f9d6552d0ad4b90",
            "a9838e99a4d943e0af673fe25f465f17",
            "fc4f38f1629a47438c65b73d0fda52ab",
            "f7ffcc57387c4fe1a0d25eb8945f8319",
            "8e6b8085188e49eb91d86a48a964b65f",
            "7b16bd2a280b407781a0e1ec975c2160",
            "be0c0f391c1e4087bbd17b7b4cfca773",
            "c46f60836cbe4a288f50064b0cc86d6b",
            "1cf30540ac7a45c7a984093943d034bb"
          ]
        },
        "id": "qygn3YumgTVx",
        "outputId": "5b2a7e27-64b1-4d0e-83da-87dae46764ca"
      },
      "execution_count": 19,
      "outputs": [
        {
          "output_type": "display_data",
          "data": {
            "application/vnd.jupyter.widget-view+json": {
              "model_id": "5cef3d677f5544aea7103eede9220faf",
              "version_minor": 0,
              "version_major": 2
            },
            "text/plain": [
              "Downloading:   0%|          | 0.00/482 [00:00<?, ?B/s]"
            ]
          },
          "metadata": {}
        },
        {
          "output_type": "display_data",
          "data": {
            "application/vnd.jupyter.widget-view+json": {
              "model_id": "24bf759917f146999da4d221d4eaa98a",
              "version_minor": 0,
              "version_major": 2
            },
            "text/plain": [
              "Downloading:   0%|          | 0.00/878k [00:00<?, ?B/s]"
            ]
          },
          "metadata": {}
        },
        {
          "output_type": "display_data",
          "data": {
            "application/vnd.jupyter.widget-view+json": {
              "model_id": "a49324032d114da2921251a61e8fdfa0",
              "version_minor": 0,
              "version_major": 2
            },
            "text/plain": [
              "Downloading:   0%|          | 0.00/446k [00:00<?, ?B/s]"
            ]
          },
          "metadata": {}
        },
        {
          "output_type": "display_data",
          "data": {
            "application/vnd.jupyter.widget-view+json": {
              "model_id": "2a7af9bd2236429f9117190a871e412c",
              "version_minor": 0,
              "version_major": 2
            },
            "text/plain": [
              "Downloading:   0%|          | 0.00/1.29M [00:00<?, ?B/s]"
            ]
          },
          "metadata": {}
        },
        {
          "output_type": "display_data",
          "data": {
            "application/vnd.jupyter.widget-view+json": {
              "model_id": "7207cd4c6d89428dacd9ea6a33b9a27d",
              "version_minor": 0,
              "version_major": 2
            },
            "text/plain": [
              "Downloading:   0%|          | 0.00/1.33G [00:00<?, ?B/s]"
            ]
          },
          "metadata": {}
        },
        {
          "output_type": "stream",
          "name": "stderr",
          "text": [
            "Some weights of the model checkpoint at roberta-large were not used when initializing RobertaModel: ['lm_head.dense.weight', 'lm_head.layer_norm.weight', 'lm_head.bias', 'lm_head.layer_norm.bias', 'lm_head.dense.bias', 'lm_head.decoder.weight']\n",
            "- This IS expected if you are initializing RobertaModel from the checkpoint of a model trained on another task or with another architecture (e.g. initializing a BertForSequenceClassification model from a BertForPreTraining model).\n",
            "- This IS NOT expected if you are initializing RobertaModel from the checkpoint of a model that you expect to be exactly identical (initializing a BertForSequenceClassification model from a BertForSequenceClassification model).\n"
          ]
        }
      ]
    },
    {
      "cell_type": "code",
      "source": [
        "def getBERTHypsRefs(tgt, pred):\n",
        "  hyps, refs = [], []\n",
        "\n",
        "  for r, h in zip(tgt, pred):\n",
        "    hyps.append(h)\n",
        "    refs.append([r])\n",
        "\n",
        "  return hyps, refs\n",
        "\n",
        "#hyps, refs = getBERTRefsHyps(out, pred)\n",
        "#P, R, F1 = bert_scorer.score(hyps, refs)\n",
        "#print(p, r, f1)\n",
        "#print(mean(p), mean(r), mean(f1))\n"
      ],
      "metadata": {
        "id": "Q5C-bZ_oRSOV"
      },
      "execution_count": 20,
      "outputs": []
    },
    {
      "cell_type": "code",
      "source": [
        "# perplexity\n",
        "\n",
        "import nltk \n",
        "nltk.download('punkt')"
      ],
      "metadata": {
        "colab": {
          "base_uri": "https://localhost:8080/"
        },
        "id": "_DazQ1Q4Wn6d",
        "outputId": "8a6bf2db-28c6-45e8-907c-ad65746f7292"
      },
      "execution_count": 21,
      "outputs": [
        {
          "output_type": "stream",
          "name": "stdout",
          "text": [
            "[nltk_data] Downloading package punkt to /root/nltk_data...\n",
            "[nltk_data]   Unzipping tokenizers/punkt.zip.\n"
          ]
        },
        {
          "output_type": "execute_result",
          "data": {
            "text/plain": [
              "True"
            ]
          },
          "metadata": {},
          "execution_count": 21
        }
      ]
    },
    {
      "cell_type": "code",
      "source": [
        "# perplexity\n",
        "# generate the unigram & bigram probabilities from the target corpus\n",
        "\n",
        "from nltk.probability import FreqDist, ProbDistI, ConditionalFreqDist, ConditionalProbDist\n",
        "from nltk.tokenize import sent_tokenize, word_tokenize\n",
        "from nltk.util import ngrams\n",
        "\n",
        "def getUnigramProbs(tgt):\n",
        "\n",
        "  tok_sent = [word_tokenize(s) for s in tgt]\n",
        "\n",
        "  # unigrams\n",
        "  # frequency distribution\n",
        "  freq_1gram = FreqDist()\n",
        "  n_words = 0\n",
        "  for tok in tok_sent:\n",
        "    #print (s)\n",
        "    n_words += len(tok)\n",
        "    for word in tok:\n",
        "      freq_1gram[word] += 1\n",
        "\n",
        "  # probability distribution\n",
        "  #def unigram_prob(word):\n",
        "  #  return freq_1gram[word]/n_words\n",
        "\n",
        "  prob_1gram = nltk.probability.DictionaryProbDist(dict(freq_1gram), normalize=True)\n",
        "\n",
        "  return freq_1gram, prob_1gram\n",
        "\n",
        "def getBigramProbs(tgt):\n",
        "  # bigrams\n",
        "  # append with SOS to get the first bigram\n",
        "  for i in range(len(tgt)):\n",
        "    tgt[i] = \"SOS \"+ tgt[i]\n",
        "\n",
        "  tok_sents = [word_tokenize(sentence) for sentence in tgt]\n",
        "\n",
        "  # frequency distribution\n",
        "  freq_2gram = ConditionalFreqDist()\n",
        "  for tok_sent in tok_sents:\n",
        "    bigrams = ngrams(tok_sent,2)\n",
        "    for bg in bigrams:\n",
        "      #print(bg)\n",
        "      freq_2gram[bg[0]][bg[1]] += 1\n",
        "\n",
        "  # probability distribution\n",
        "  prob_2gram = ConditionalProbDist(freq_2gram, nltk.MLEProbDist)\n",
        "  return freq_2gram, prob_2gram"
      ],
      "metadata": {
        "id": "xrA1r97gU4wA"
      },
      "execution_count": 22,
      "outputs": []
    },
    {
      "cell_type": "code",
      "source": [
        "MIN_PROB = 0.00001 # in case the word or bigram is not seen in the corpus, keep a low value of probability instead of 0\n",
        "\n",
        "def getUnigramPerplexity(sentence, prob_1gram):\n",
        "  logP = 0\n",
        "  tok_sent = word_tokenize(sentence)\n",
        "  for w in tok_sent:\n",
        "    p = prob_1gram.prob(w)\n",
        "    p = p or MIN_PROB\n",
        "    logP += math.log(p,2)\n",
        "  pp = math.pow(2,-1.*logP/len(sentence))\n",
        "  return pp\n",
        "\n",
        "def getBigramPerplexity(sentence, prob_2gram, SOS_present=False):\n",
        "  logP = 0\n",
        "  if not SOS_present:\n",
        "    sentence = \"SOS \"+sentence\n",
        "  tok_sent = word_tokenize(sentence)\n",
        "  bigrams = ngrams(tok_sent,2)\n",
        "\n",
        "  for bg in bigrams:\n",
        "    p = prob_2gram[bg[0]].prob(bg[1])\n",
        "    p = p or MIN_PROB\n",
        "    logP += math.log(p,2)\n",
        "\n",
        "  pp = math.pow(2,-1.*logP/len(sentence))\n",
        "  return pp"
      ],
      "metadata": {
        "id": "W6jvXo7bhESE"
      },
      "execution_count": 23,
      "outputs": []
    },
    {
      "cell_type": "code",
      "execution_count": 59,
      "metadata": {
        "id": "YhOlXKebwRem"
      },
      "outputs": [],
      "source": [
        "import matplotlib.pyplot as plt\n",
        "#plt.switch_backend('agg')\n",
        "import matplotlib.ticker as ticker\n",
        "import numpy as np\n",
        "\n",
        "\n",
        "def showPlot(points):\n",
        "    plt.figure()\n",
        "    fig, ax = plt.subplots()\n",
        "    # this locator puts ticks at regular intervals\n",
        "    loc = ticker.MultipleLocator(base=0.2)\n",
        "    ax.yaxis.set_major_locator(loc)\n",
        "    plt.plot(points)"
      ]
    },
    {
      "cell_type": "code",
      "source": [
        "FS=6\n",
        "def showMetrics(pdata):\n",
        "\n",
        "    labels=[['Precision','Recall','F-score'],'BLEU', ['BERT-Prec','BERT-Rec','BERT-F1'],['Perp-UNI','Perp-BI']]\n",
        "    # Precision, Recall, Fscore\n",
        "    plt.figure(figsize=(FS,FS))    \n",
        "    for y,label in zip(pdata[1],labels[0]):\n",
        "      plt.plot(pdata[0],y,label=label)\n",
        "    plt.legend()\n",
        "    # BLEU\n",
        "    plt.figure(figsize=(FS,FS))\n",
        "    plt.plot(pdata[0],pdata[2],label=labels[1])\n",
        "    plt.legend()\n",
        "    # BERT - Precision, Recall, Fscore\n",
        "    plt.figure(figsize=(FS,FS))    \n",
        "    for y,label in zip(pdata[3],labels[2]):\n",
        "      plt.plot(pdata[0],y,label=label)\n",
        "    plt.legend()\n",
        "    # Perplexity - UNIgram, BIgram\n",
        "    plt.figure(figsize=(FS,FS))    \n",
        "    for y,label in zip(pdata[4],labels[3]):\n",
        "      plt.plot(pdata[0],y,label=label)\n",
        "    plt.legend()\n",
        "        \n"
      ],
      "metadata": {
        "id": "i1lCzSMJ612b"
      },
      "execution_count": 155,
      "outputs": []
    },
    {
      "cell_type": "code",
      "source": [
        "sep = \"------------------------------------------------------\"\n",
        "def getAss7Metrics(encoder, decoder):\n",
        "    tgt, pred = getTgtPred(encoder, decoder)\n",
        "    # Precision, Recall, F1-score\n",
        "    y_true, y_pred = getYtrueYpred(tgt,pred) \n",
        "    print(sep)\n",
        "    (p,r,f,_)=precision_recall_fscore_support(y_true,y_pred, average='micro', zero_division=0)\n",
        "    print(f\"Precision: {p}, Recall: {r}, F-score: {f}\")\n",
        "    # BLEU\n",
        "    candidate_corpus, reference_corpus = prepareBLEUCorpus(tgt, pred)\n",
        "    print(sep)\n",
        "    bleu=bleu_score(candidate_corpus, reference_corpus)\n",
        "    print(f\"BLEU score: {bleu}\")\n",
        "    # BERT\n",
        "    print(sep)\n",
        "    hyps, refs = getBERTHypsRefs(tgt, pred)\n",
        "    P, R, F = bert_scorer.score(hyps, refs)\n",
        "    #print(p, r, f1)\n",
        "    (BP,BR,BF)=(P.mean().item(),R.mean().item(),F.mean().item())\n",
        "    print(f\"BERT Precision (avg): {BP}, BERT Recall: {BR}, BERT F-score: {BF}\")\n",
        "    #print(mean(P), mean(R), mean(F1))\n",
        "    # Perplexity\n",
        "    print(sep)\n",
        "    _, probs_1gram = getUnigramProbs(tgt)\n",
        "    _, probs_2gram = getBigramProbs(tgt)\n",
        "    nSent = len(pred)\n",
        "    uniPerp, biPerp = 0., 0.\n",
        "    for s in pred:\n",
        "        uniPerp += getUnigramPerplexity(s, probs_1gram)\n",
        "        biPerp += getBigramPerplexity(s, probs_2gram)\n",
        "    uniPerp /= nSent\n",
        "    biPerp /= nSent\n",
        "    print (f\"Avegare Unigram perplexity = {uniPerp}\")\n",
        "    print (f\"Avegare Bigram perplexity = {biPerp}\")\n",
        "    print(sep)\n",
        "    return [[p,r,f],bleu,[BP,BR,BF],[uniPerp,biPerp]]\n"
      ],
      "metadata": {
        "id": "LHLdH31Qlsmy"
      },
      "execution_count": 154,
      "outputs": []
    },
    {
      "cell_type": "code",
      "execution_count": 157,
      "metadata": {
        "id": "sQ4BvTH-wRel"
      },
      "outputs": [],
      "source": [
        "\n",
        "def trainIters(encoder, decoder, n_iters, print_every=1000, plot_every=100, eval_last=10, eval_every=1000, learning_rate=0.01):\n",
        "    start = time.time()\n",
        "    plot_losses = []\n",
        "    metrics_data=[[],np.empty((0,3),float),[],np.empty((0,3),float),np.empty((0,2),float)]\n",
        "    print_loss_total = 0  # Reset every print_every\n",
        "    plot_loss_total = 0  # Reset every plot_every\n",
        "\n",
        "    encoder_optimizer = optim.SGD(encoder.parameters(), lr=learning_rate)\n",
        "    decoder_optimizer = optim.SGD(decoder.parameters(), lr=learning_rate)\n",
        "    training_pairs = [tensorsFromPair(random.choice(pairs))\n",
        "                      for i in range(n_iters)]\n",
        "    criterion = nn.NLLLoss()\n",
        "    assert (eval_last * eval_every < n_iters/2)\n",
        "    start_eval_idx = (n_iters - eval_last * eval_every)\n",
        "    \n",
        "\n",
        "    for iter in range(1, n_iters + 1):\n",
        "        training_pair = training_pairs[iter - 1]\n",
        "        input_tensor = training_pair[0]\n",
        "        target_tensor = training_pair[1]\n",
        "\n",
        "        loss = train(input_tensor, target_tensor, encoder,\n",
        "                     decoder, encoder_optimizer, decoder_optimizer, criterion)\n",
        "        print_loss_total += loss\n",
        "        plot_loss_total += loss\n",
        "\n",
        "        if iter % print_every == 0:\n",
        "            print_loss_avg = print_loss_total / print_every\n",
        "            print_loss_total = 0\n",
        "            print('%s (%d %d%%) %.4f' % (timeSince(start, iter / n_iters),\n",
        "                                         iter, iter / n_iters * 100, print_loss_avg))\n",
        "\n",
        "        if iter % plot_every == 0:\n",
        "            plot_loss_avg = plot_loss_total / plot_every\n",
        "            plot_losses.append(plot_loss_avg)\n",
        "            plot_loss_total = 0\n",
        "\n",
        "        if iter > start_eval_idx:\n",
        "            if (iter - start_eval_idx) % eval_every == 0:\n",
        "                print('Eval %s (%d %d%%)' % (timeSince(start, iter / n_iters),\n",
        "                                             iter, iter / n_iters * 100))\n",
        "                mdata = getAss7Metrics(encoder, decoder)\n",
        "                metrics_data[0].append(iter)\n",
        "                metrics_data[1]=np.append(metrics_data[1],[mdata[0]],axis=0)\n",
        "                metrics_data[2].append(mdata[1])\n",
        "                metrics_data[3]=np.append(metrics_data[3],[mdata[2]],axis=0)\n",
        "                metrics_data[4]=np.append(metrics_data[4],[mdata[3]],axis=0)\n",
        "                #print(metrics_data)  \n",
        "\n",
        "    metrics_data[1]=metrics_data[1].T\n",
        "    metrics_data[3]=metrics_data[3].T\n",
        "    metrics_data[4]=metrics_data[4].T\n",
        "    #print(metrics_data)\n",
        "    showPlot(plot_losses)\n",
        "    showMetrics(metrics_data)"
      ]
    },
    {
      "cell_type": "code",
      "execution_count": 28,
      "metadata": {
        "id": "uM3niqBawRen"
      },
      "outputs": [],
      "source": [
        "def evaluateRandomly(encoder, decoder, n=10):\n",
        "    for i in range(n):\n",
        "        pair = random.choice(pairs)\n",
        "        print('>', pair[0])\n",
        "        print('=', pair[1])\n",
        "        output_words, attentions = evaluate(encoder, decoder, pair[0])\n",
        "        output_sentence = ' '.join(output_words)\n",
        "        print('<', output_sentence)\n",
        "        print('')"
      ]
    },
    {
      "cell_type": "code",
      "execution_count": 164,
      "metadata": {
        "id": "M2bPlhuPwRep",
        "colab": {
          "base_uri": "https://localhost:8080/",
          "height": 1000
        },
        "outputId": "45f3476e-b469-4f47-cb25-bdffad2a5a25"
      },
      "outputs": [
        {
          "output_type": "stream",
          "name": "stdout",
          "text": [
            "1m 54s (- 26m 43s) (5000 6%) 2.8665\n",
            "3m 41s (- 24m 0s) (10000 13%) 2.2706\n",
            "5m 29s (- 21m 58s) (15000 20%) 1.9987\n",
            "7m 17s (- 20m 3s) (20000 26%) 1.7371\n",
            "9m 8s (- 18m 16s) (25000 33%) 1.5358\n",
            "10m 57s (- 16m 26s) (30000 40%) 1.3585\n",
            "12m 46s (- 14m 36s) (35000 46%) 1.2061\n",
            "14m 36s (- 12m 47s) (40000 53%) 1.0847\n",
            "16m 25s (- 10m 57s) (45000 60%) 0.9794\n",
            "18m 13s (- 9m 6s) (50000 66%) 0.8852\n",
            "20m 3s (- 7m 17s) (55000 73%) 0.8181\n",
            "Eval 20m 25s (- 6m 55s) (56000 74%)\n",
            "------------------------------------------------------\n",
            "Precision: 0.409, Recall: 0.409, F-score: 0.409\n",
            "------------------------------------------------------\n",
            "BLEU score: 0.6110410094261169\n",
            "------------------------------------------------------\n",
            "BERT Precision (avg): 0.7467592358589172, BERT Recall: 0.7450917959213257, BERT F-score: 0.7461121082305908\n",
            "------------------------------------------------------\n",
            "Avegare Unigram perplexity = 3.499062098008892\n",
            "Avegare Bigram perplexity = 2.5272090684048614\n",
            "------------------------------------------------------\n",
            "Eval 21m 3s (- 6m 39s) (57000 76%)\n",
            "------------------------------------------------------\n",
            "Precision: 0.42, Recall: 0.42, F-score: 0.41999999999999993\n",
            "------------------------------------------------------\n",
            "BLEU score: 0.6103628351623029\n",
            "------------------------------------------------------\n",
            "BERT Precision (avg): 0.767072856426239, BERT Recall: 0.7495747208595276, BERT F-score: 0.7584704160690308\n",
            "------------------------------------------------------\n",
            "Avegare Unigram perplexity = 3.4863476086404277\n",
            "Avegare Bigram perplexity = 2.3970397333144495\n",
            "------------------------------------------------------\n",
            "Eval 21m 41s (- 6m 21s) (58000 77%)\n",
            "------------------------------------------------------\n",
            "Precision: 0.449, Recall: 0.449, F-score: 0.449\n",
            "------------------------------------------------------\n",
            "BLEU score: 0.6542776560255041\n",
            "------------------------------------------------------\n",
            "BERT Precision (avg): 0.7826634645462036, BERT Recall: 0.7740066051483154, BERT F-score: 0.7784554958343506\n",
            "------------------------------------------------------\n",
            "Avegare Unigram perplexity = 3.451482750983544\n",
            "Avegare Bigram perplexity = 2.2849472341115873\n",
            "------------------------------------------------------\n",
            "Eval 22m 18s (- 6m 2s) (59000 78%)\n",
            "------------------------------------------------------\n",
            "Precision: 0.448, Recall: 0.448, F-score: 0.44800000000000006\n",
            "------------------------------------------------------\n",
            "BLEU score: 0.6408231195880386\n",
            "------------------------------------------------------\n",
            "BERT Precision (avg): 0.7713983058929443, BERT Recall: 0.7672632336616516, BERT F-score: 0.7694854736328125\n",
            "------------------------------------------------------\n",
            "Avegare Unigram perplexity = 3.502753094845937\n",
            "Avegare Bigram perplexity = 2.3286690572372515\n",
            "------------------------------------------------------\n",
            "22m 55s (- 5m 43s) (60000 80%) 0.7426\n",
            "Eval 22m 55s (- 5m 43s) (60000 80%)\n",
            "------------------------------------------------------\n",
            "Precision: 0.44, Recall: 0.44, F-score: 0.44\n",
            "------------------------------------------------------\n",
            "BLEU score: 0.6440923993094738\n",
            "------------------------------------------------------\n",
            "BERT Precision (avg): 0.7799484133720398, BERT Recall: 0.7640512585639954, BERT F-score: 0.7721315622329712\n",
            "------------------------------------------------------\n",
            "Avegare Unigram perplexity = 3.4547363852085695\n",
            "Avegare Bigram perplexity = 2.376785923089199\n",
            "------------------------------------------------------\n",
            "Eval 23m 32s (- 5m 24s) (61000 81%)\n",
            "------------------------------------------------------\n",
            "Precision: 0.457, Recall: 0.457, F-score: 0.457\n",
            "------------------------------------------------------\n",
            "BLEU score: 0.6415776014328003\n",
            "------------------------------------------------------\n",
            "BERT Precision (avg): 0.7742380499839783, BERT Recall: 0.7685022354125977, BERT F-score: 0.7714977264404297\n",
            "------------------------------------------------------\n",
            "Avegare Unigram perplexity = 3.4878558690461268\n",
            "Avegare Bigram perplexity = 2.3882739680026304\n",
            "------------------------------------------------------\n",
            "Eval 24m 10s (- 5m 4s) (62000 82%)\n",
            "------------------------------------------------------\n",
            "Precision: 0.458, Recall: 0.458, F-score: 0.458\n",
            "------------------------------------------------------\n",
            "BLEU score: 0.6490076102918708\n",
            "------------------------------------------------------\n",
            "BERT Precision (avg): 0.7765749096870422, BERT Recall: 0.7707733511924744, BERT F-score: 0.7738001942634583\n",
            "------------------------------------------------------\n",
            "Avegare Unigram perplexity = 3.4833689673588943\n",
            "Avegare Bigram perplexity = 2.387639314762638\n",
            "------------------------------------------------------\n",
            "Eval 24m 47s (- 4m 43s) (63000 84%)\n",
            "------------------------------------------------------\n",
            "Precision: 0.466, Recall: 0.466, F-score: 0.466\n",
            "------------------------------------------------------\n",
            "BLEU score: 0.644264617806494\n",
            "------------------------------------------------------\n",
            "BERT Precision (avg): 0.7730074524879456, BERT Recall: 0.7685545086860657, BERT F-score: 0.7709378600120544\n",
            "------------------------------------------------------\n",
            "Avegare Unigram perplexity = 3.4910782010586283\n",
            "Avegare Bigram perplexity = 2.3897631293855883\n",
            "------------------------------------------------------\n",
            "Eval 25m 24s (- 4m 22s) (64000 85%)\n",
            "------------------------------------------------------\n",
            "Precision: 0.473, Recall: 0.473, F-score: 0.473\n",
            "------------------------------------------------------\n",
            "BLEU score: 0.6584338499740111\n",
            "------------------------------------------------------\n",
            "BERT Precision (avg): 0.7907158732414246, BERT Recall: 0.7834737300872803, BERT F-score: 0.7872433662414551\n",
            "------------------------------------------------------\n",
            "Avegare Unigram perplexity = 3.491670433921184\n",
            "Avegare Bigram perplexity = 2.266137270744411\n",
            "------------------------------------------------------\n",
            "26m 2s (- 4m 0s) (65000 86%) 0.6872\n",
            "Eval 26m 2s (- 4m 0s) (65000 86%)\n",
            "------------------------------------------------------\n",
            "Precision: 0.51, Recall: 0.51, F-score: 0.51\n",
            "------------------------------------------------------\n",
            "BLEU score: 0.6881147897219839\n",
            "------------------------------------------------------\n",
            "BERT Precision (avg): 0.8063541054725647, BERT Recall: 0.7996664047241211, BERT F-score: 0.8031131625175476\n",
            "------------------------------------------------------\n",
            "Avegare Unigram perplexity = 3.4962906211074736\n",
            "Avegare Bigram perplexity = 2.1866472045542706\n",
            "------------------------------------------------------\n",
            "Eval 26m 39s (- 3m 38s) (66000 88%)\n",
            "------------------------------------------------------\n",
            "Precision: 0.48, Recall: 0.48, F-score: 0.48\n",
            "------------------------------------------------------\n",
            "BLEU score: 0.6652671238523067\n",
            "------------------------------------------------------\n",
            "BERT Precision (avg): 0.7938665151596069, BERT Recall: 0.7946112751960754, BERT F-score: 0.7943740487098694\n",
            "------------------------------------------------------\n",
            "Avegare Unigram perplexity = 3.474612798172734\n",
            "Avegare Bigram perplexity = 2.242909318429413\n",
            "------------------------------------------------------\n",
            "Eval 27m 16s (- 3m 15s) (67000 89%)\n",
            "------------------------------------------------------\n",
            "Precision: 0.486, Recall: 0.486, F-score: 0.486\n",
            "------------------------------------------------------\n",
            "BLEU score: 0.6742178797721863\n",
            "------------------------------------------------------\n",
            "BERT Precision (avg): 0.7945924401283264, BERT Recall: 0.792910099029541, BERT F-score: 0.7938846945762634\n",
            "------------------------------------------------------\n",
            "Avegare Unigram perplexity = 3.4442770807301613\n",
            "Avegare Bigram perplexity = 2.507107471825411\n",
            "------------------------------------------------------\n",
            "Eval 27m 54s (- 2m 52s) (68000 90%)\n",
            "------------------------------------------------------\n",
            "Precision: 0.508, Recall: 0.508, F-score: 0.508\n",
            "------------------------------------------------------\n",
            "BLEU score: 0.6901763980396144\n",
            "------------------------------------------------------\n",
            "BERT Precision (avg): 0.8028925657272339, BERT Recall: 0.7997832298278809, BERT F-score: 0.8014533519744873\n",
            "------------------------------------------------------\n",
            "Avegare Unigram perplexity = 3.4717503962787304\n",
            "Avegare Bigram perplexity = 2.1675561181771417\n",
            "------------------------------------------------------\n",
            "Eval 28m 32s (- 2m 28s) (69000 92%)\n",
            "------------------------------------------------------\n",
            "Precision: 0.511, Recall: 0.511, F-score: 0.511\n",
            "------------------------------------------------------\n",
            "BLEU score: 0.6901322422812359\n",
            "------------------------------------------------------\n",
            "BERT Precision (avg): 0.8085196018218994, BERT Recall: 0.8063216805458069, BERT F-score: 0.807555079460144\n",
            "------------------------------------------------------\n",
            "Avegare Unigram perplexity = 3.497326471665003\n",
            "Avegare Bigram perplexity = 2.266812845808293\n",
            "------------------------------------------------------\n",
            "29m 9s (- 2m 4s) (70000 93%) 0.6040\n",
            "Eval 29m 9s (- 2m 4s) (70000 93%)\n",
            "------------------------------------------------------\n",
            "Precision: 0.542, Recall: 0.542, F-score: 0.542\n",
            "------------------------------------------------------\n",
            "BLEU score: 0.7067186872642871\n",
            "------------------------------------------------------\n",
            "BERT Precision (avg): 0.819107174873352, BERT Recall: 0.815656304359436, BERT F-score: 0.817509651184082\n",
            "------------------------------------------------------\n",
            "Avegare Unigram perplexity = 3.4808457302490345\n",
            "Avegare Bigram perplexity = 2.1204676380224154\n",
            "------------------------------------------------------\n",
            "Eval 29m 47s (- 1m 40s) (71000 94%)\n",
            "------------------------------------------------------\n",
            "Precision: 0.517, Recall: 0.517, F-score: 0.517\n",
            "------------------------------------------------------\n",
            "BLEU score: 0.6911902118723662\n",
            "------------------------------------------------------\n",
            "BERT Precision (avg): 0.8107569813728333, BERT Recall: 0.8052363395690918, BERT F-score: 0.80811607837677\n",
            "------------------------------------------------------\n",
            "Avegare Unigram perplexity = 3.4354334141471536\n",
            "Avegare Bigram perplexity = 2.1289651461119616\n",
            "------------------------------------------------------\n",
            "Eval 30m 25s (- 1m 16s) (72000 96%)\n",
            "------------------------------------------------------\n",
            "Precision: 0.552, Recall: 0.552, F-score: 0.552\n",
            "------------------------------------------------------\n",
            "BLEU score: 0.7128148200709142\n",
            "------------------------------------------------------\n",
            "BERT Precision (avg): 0.8265600800514221, BERT Recall: 0.8229280710220337, BERT F-score: 0.8248466849327087\n",
            "------------------------------------------------------\n",
            "Avegare Unigram perplexity = 3.466840097545954\n",
            "Avegare Bigram perplexity = 2.087837740553148\n",
            "------------------------------------------------------\n",
            "Eval 31m 2s (- 0m 51s) (73000 97%)\n",
            "------------------------------------------------------\n",
            "Precision: 0.541, Recall: 0.541, F-score: 0.541\n",
            "------------------------------------------------------\n",
            "BLEU score: 0.7086223769994308\n",
            "------------------------------------------------------\n",
            "BERT Precision (avg): 0.8176034092903137, BERT Recall: 0.8131729364395142, BERT F-score: 0.8154993653297424\n",
            "------------------------------------------------------\n",
            "Avegare Unigram perplexity = 3.459492993033436\n",
            "Avegare Bigram perplexity = 2.115221102409835\n",
            "------------------------------------------------------\n",
            "Eval 31m 40s (- 0m 25s) (74000 98%)\n",
            "------------------------------------------------------\n",
            "Precision: 0.54, Recall: 0.54, F-score: 0.54\n",
            "------------------------------------------------------\n",
            "BLEU score: 0.7115039514725267\n",
            "------------------------------------------------------\n",
            "BERT Precision (avg): 0.821979820728302, BERT Recall: 0.810854971408844, BERT F-score: 0.816526472568512\n",
            "------------------------------------------------------\n",
            "Avegare Unigram perplexity = 3.456369158910895\n",
            "Avegare Bigram perplexity = 2.0859617281117986\n",
            "------------------------------------------------------\n",
            "32m 17s (- 0m 0s) (75000 100%) 0.5474\n",
            "Eval 32m 17s (- 0m 0s) (75000 100%)\n",
            "------------------------------------------------------\n",
            "Precision: 0.559, Recall: 0.559, F-score: 0.559\n",
            "------------------------------------------------------\n",
            "BLEU score: 0.7185864896687918\n",
            "------------------------------------------------------\n",
            "BERT Precision (avg): 0.8253143429756165, BERT Recall: 0.8217856884002686, BERT F-score: 0.8236551880836487\n",
            "------------------------------------------------------\n",
            "Avegare Unigram perplexity = 3.4752419112903064\n",
            "Avegare Bigram perplexity = 2.125785466557317\n",
            "------------------------------------------------------\n"
          ]
        },
        {
          "output_type": "display_data",
          "data": {
            "text/plain": [
              "<Figure size 432x288 with 0 Axes>"
            ]
          },
          "metadata": {}
        },
        {
          "output_type": "display_data",
          "data": {
            "image/png": "[encoded data removed]",
            "text/plain": [
              "<Figure size 432x288 with 1 Axes>"
            ]
          },
          "metadata": {
            "needs_background": "light"
          }
        },
        {
          "output_type": "display_data",
          "data": {
            "image/png": "[encoded data removed]",
            "text/plain": [
              "<Figure size 432x432 with 1 Axes>"
            ]
          },
          "metadata": {
            "needs_background": "light"
          }
        },
        {
          "output_type": "display_data",
          "data": {
            "image/png": "[encoded data removed]",
            "text/plain": [
              "<Figure size 432x432 with 1 Axes>"
            ]
          },
          "metadata": {
            "needs_background": "light"
          }
        },
        {
          "output_type": "display_data",
          "data": {
            "image/png": "[encoded data removed]",
            "text/plain": [
              "<Figure size 432x432 with 1 Axes>"
            ]
          },
          "metadata": {
            "needs_background": "light"
          }
        },
        {
          "output_type": "display_data",
          "data": {
            "image/png": "[encoded data removed]",
            "text/plain": [
              "<Figure size 432x432 with 1 Axes>"
            ]
          },
          "metadata": {
            "needs_background": "light"
          }
        }
      ],
      "source": [
        "hidden_size = 256\n",
        "encoder1 = EncoderRNN(input_lang.n_words, hidden_size).to(device)\n",
        "attn_decoder1 = AttnDecoderRNN(hidden_size, output_lang.n_words, dropout_p=0.1).to(device)\n",
        "\n",
        "#trainIters(encoder1, attn_decoder1, 75000, print_every=5000)\n",
        "#trainIters(encoder1, attn_decoder1, 1000, print_every=200, eval_last=3, eval_every=100)\n",
        "trainIters(encoder1, attn_decoder1, 75000, print_every=5000, eval_last=20, eval_every=1000)"
      ]
    },
    {
      "cell_type": "code",
      "execution_count": 53,
      "metadata": {
        "id": "POF9fH8NwRep",
        "colab": {
          "base_uri": "https://localhost:8080/"
        },
        "outputId": "a59c0c61-1144-4886-e04a-935868c5ac97"
      },
      "outputs": [
        {
          "output_type": "stream",
          "name": "stdout",
          "text": [
            "> tu es assez vieux pour savoir mieux .\n",
            "= you re old enough to know better .\n",
            "< you re too old for me . <EOS>\n",
            "\n",
            "> vous etes toujours celibataire n est ce pas ?\n",
            "= you re still single aren t you ?\n",
            "< you re a good cook aren t you ? <EOS>\n",
            "\n",
            "> nous sommes etudiants .\n",
            "= we re students .\n",
            "< we re students . <EOS>\n",
            "\n",
            "> nous ne sommes pas vieux .\n",
            "= we re not old .\n",
            "< we re not old . <EOS>\n",
            "\n",
            "> il est notre unique suspect .\n",
            "= he s our only suspect .\n",
            "< he is a by the . <EOS>\n",
            "\n",
            "> tu es confus .\n",
            "= you re confused .\n",
            "< you re beautiful . <EOS>\n",
            "\n",
            "> je suis mariee et j ai deux enfants .\n",
            "= i am married and have two children .\n",
            "< i am a and tired of two . <EOS>\n",
            "\n",
            "> je suis depourvue de talent .\n",
            "= i m untalented .\n",
            "< i m untalented . <EOS>\n",
            "\n",
            "> il est devant la porte .\n",
            "= he is in front of the door .\n",
            "< he is in the the the . <EOS>\n",
            "\n",
            "> vous allez aussi me manquer .\n",
            "= i m going to miss you too .\n",
            "< i m going to miss you . . <EOS>\n",
            "\n"
          ]
        }
      ],
      "source": [
        "evaluateRandomly(encoder1, attn_decoder1)"
      ]
    },
    {
      "cell_type": "code",
      "execution_count": null,
      "metadata": {
        "id": "xzESZP85wRep",
        "colab": {
          "base_uri": "https://localhost:8080/"
        },
        "outputId": "9067ccfc-ac59-43f3-d1cd-d43611ef0e6a"
      },
      "outputs": [
        {
          "output_type": "execute_result",
          "data": {
            "text/plain": [
              "<matplotlib.image.AxesImage at 0x7f082477ef90>"
            ]
          },
          "metadata": {},
          "execution_count": 21
        }
      ],
      "source": [
        "output_words, attentions = evaluate(\n",
        "    encoder1, attn_decoder1, \"je suis trop froid .\")\n",
        "plt.matshow(attentions.numpy())"
      ]
    },
    {
      "cell_type": "code",
      "execution_count": null,
      "metadata": {
        "id": "slGdKyLdwReq",
        "colab": {
          "base_uri": "https://localhost:8080/"
        },
        "outputId": "c63d8dd4-c2bd-45d1-cd3e-64cd98a884aa"
      },
      "outputs": [
        {
          "output_type": "stream",
          "name": "stdout",
          "text": [
            "input = elle a cinq ans de moins que moi .\n",
            "output = she is five years younger than me am . <EOS>\n",
            "input = elle est trop petit .\n",
            "output = she s too loud . <EOS>\n",
            "input = je ne crains pas de mourir .\n",
            "output = i m not scared of dying . <EOS>\n",
            "input = c est un jeune directeur plein de talent .\n",
            "output = he s a talented young . . <EOS>\n"
          ]
        }
      ],
      "source": [
        "def showAttention(input_sentence, output_words, attentions):\n",
        "    # Set up figure with colorbar\n",
        "    fig = plt.figure()\n",
        "    ax = fig.add_subplot(111)\n",
        "    cax = ax.matshow(attentions.numpy(), cmap='bone')\n",
        "    fig.colorbar(cax)\n",
        "\n",
        "    # Set up axes\n",
        "    ax.set_xticklabels([''] + input_sentence.split(' ') +\n",
        "                       ['<EOS>'], rotation=90)\n",
        "    ax.set_yticklabels([''] + output_words)\n",
        "\n",
        "    # Show label at every tick\n",
        "    ax.xaxis.set_major_locator(ticker.MultipleLocator(1))\n",
        "    ax.yaxis.set_major_locator(ticker.MultipleLocator(1))\n",
        "\n",
        "    plt.show()\n",
        "\n",
        "\n",
        "def evaluateAndShowAttention(input_sentence):\n",
        "    output_words, attentions = evaluate(\n",
        "        encoder1, attn_decoder1, input_sentence)\n",
        "    print('input =', input_sentence)\n",
        "    print('output =', ' '.join(output_words))\n",
        "    showAttention(input_sentence, output_words, attentions)\n",
        "\n",
        "\n",
        "evaluateAndShowAttention(\"elle a cinq ans de moins que moi .\")\n",
        "\n",
        "evaluateAndShowAttention(\"elle est trop petit .\")\n",
        "\n",
        "evaluateAndShowAttention(\"je ne crains pas de mourir .\")\n",
        "\n",
        "evaluateAndShowAttention(\"c est un jeune directeur plein de talent .\")"
      ]
    },
    {
      "cell_type": "markdown",
      "source": [
        "https://scikit-learn.org/stable/modules/model_evaluation.html"
      ],
      "metadata": {
        "id": "h-03I1IA3gAh"
      }
    },
    {
      "cell_type": "code",
      "source": [
        "tgt = [\"This is a sample sentence\", \"It is raining heavily today\", \"I wish I was in a cinema hall\", \"This stuff is interesting\"]\n",
        "_, probs_1gram = getUnigramProbs(tgt)\n",
        "_, probs_2gram = getBigramProbs(tgt)"
      ],
      "metadata": {
        "id": "QrU2dpLKDcBD"
      },
      "execution_count": 55,
      "outputs": []
    },
    {
      "cell_type": "code",
      "source": [
        "s = \"This is a sample sentence.\"\n",
        "print(getUnigramPerplexity(s, prob_1gram))\n",
        "print(getBigramPerplexity(s, probs_2gram))"
      ],
      "metadata": {
        "colab": {
          "base_uri": "https://localhost:8080/"
        },
        "id": "XfiN-xgLDyPi",
        "outputId": "6f19a4b1-c110-4369-bae5-d66cbd7f64d9"
      },
      "execution_count": 61,
      "outputs": [
        {
          "output_type": "stream",
          "name": "stdout",
          "text": [
            "2.5642415270055112\n",
            "1.631825472321649\n"
          ]
        }
      ]
    },
    {
      "cell_type": "code",
      "source": [
        "prob_1gram.prob('This')"
      ],
      "metadata": {
        "colab": {
          "base_uri": "https://localhost:8080/"
        },
        "id": "ADf5yPzj5RLx",
        "outputId": "8b738d0f-3e71-47bc-c62b-f71664c96ab8"
      },
      "execution_count": 60,
      "outputs": [
        {
          "output_type": "execute_result",
          "data": {
            "text/plain": [
              "0.09090909090909091"
            ]
          },
          "metadata": {},
          "execution_count": 60
        }
      ]
    },
    {
      "cell_type": "code",
      "source": [
        "#freq_2gram.conditions()\n",
        "freq_2gram['This'].keys()"
      ],
      "metadata": {
        "colab": {
          "base_uri": "https://localhost:8080/"
        },
        "id": "V2hRud0Yf-b1",
        "outputId": "7ef8cf38-5894-41c8-8b06-b82b5995e104"
      },
      "execution_count": 30,
      "outputs": [
        {
          "output_type": "execute_result",
          "data": {
            "text/plain": [
              "dict_keys(['is', 'stuff'])"
            ]
          },
          "metadata": {},
          "execution_count": 30
        }
      ]
    },
    {
      "cell_type": "code",
      "source": [
        "prob_2gram['This'].prob('is')"
      ],
      "metadata": {
        "colab": {
          "base_uri": "https://localhost:8080/"
        },
        "id": "OF1gQR9KgmTl",
        "outputId": "9873d606-7e18-44ea-9b98-ed73dd838ac7"
      },
      "execution_count": 29,
      "outputs": [
        {
          "output_type": "execute_result",
          "data": {
            "text/plain": [
              "0.5"
            ]
          },
          "metadata": {},
          "execution_count": 29
        }
      ]
    },
    {
      "cell_type": "code",
      "source": [
        "import nltk\n",
        "import nltk.corpus\n",
        "nltk.download('brown')"
      ],
      "metadata": {
        "colab": {
          "base_uri": "https://localhost:8080/"
        },
        "id": "iWbRK95z5x5j",
        "outputId": "1c734a7f-5e68-49c0-f316-c110372852a9"
      },
      "execution_count": 4,
      "outputs": [
        {
          "output_type": "stream",
          "name": "stdout",
          "text": [
            "[nltk_data] Downloading package brown to /root/nltk_data...\n",
            "[nltk_data]   Unzipping corpora/brown.zip.\n"
          ]
        },
        {
          "output_type": "execute_result",
          "data": {
            "text/plain": [
              "True"
            ]
          },
          "metadata": {},
          "execution_count": 4
        }
      ]
    },
    {
      "cell_type": "code",
      "source": [
        ""
      ],
      "metadata": {
        "id": "gx4gXchR6Eu7"
      },
      "execution_count": null,
      "outputs": []
    },
    {
      "cell_type": "code",
      "source": [
        "from nltk.corpus import brown\n",
        "\n",
        "# an nltk.FreqDist() is like a dictionary,\n",
        "\n",
        "# but it is ordered by frequency.\n",
        "\n",
        "# Also, nltk automatically fills the dictionary\n",
        "\n",
        "# with counts when given a list of words.\n",
        "\n",
        "freq_brown = nltk.FreqDist(brown.words())\n",
        "\n",
        "list(freq_brown.keys())[:20]\n",
        "\n",
        "freq_brown.most_common(20)\n",
        "\n"
      ],
      "metadata": {
        "id": "WsMsPk3R4rrB"
      },
      "execution_count": null,
      "outputs": []
    },
    {
      "cell_type": "code",
      "source": [
        "# an nltk.ConditionalFreqDist() counts frequencies of pairs.\n",
        "\n",
        "# When given a list of bigrams, it maps each first word of a bigram\n",
        "\n",
        "# to a FreqDist over the second words of the bigram.\n",
        "\n",
        "cfreq_brown_2gram = nltk.ConditionalFreqDist(nltk.bigrams(brown.words()))\n",
        "\n",
        "# conditions() in a ConditionalFreqDist are like keys()\n",
        "\n",
        "# in a dictionary\n",
        "\n",
        "cfreq_brown_2gram.conditions()\n",
        "\n",
        "# the cfreq_brown_2gram entry for \"my\" is a FreqDist.\n",
        "\n",
        "cfreq_brown_2gram[\"my\"]\n",
        "\n",
        "# here are the words that can follow after \"my\".\n",
        "\n",
        "# We first access the FreqDist associated with \"my\",\n",
        "\n",
        "# then the keys in that FreqDist\n",
        "\n",
        "cfreq_brown_2gram[\"my\"].keys()\n",
        "\n",
        "# here are the 20 most frequent words to come after \"my\", with their frequencies\n",
        "\n",
        "cfreq_brown_2gram[\"my\"].most_common(20)"
      ],
      "metadata": {
        "id": "fPKPRhz0Hdst"
      },
      "execution_count": null,
      "outputs": []
    },
    {
      "cell_type": "code",
      "source": [
        ""
      ],
      "metadata": {
        "id": "3qlZDCFd3eae"
      },
      "execution_count": null,
      "outputs": []
    }
  ],
  "metadata": {
    "kernelspec": {
      "display_name": "Python 3",
      "language": "python",
      "name": "python3"
    },
    "language_info": {
      "codemirror_mode": {
        "name": "ipython",
        "version": 3
      },
      "file_extension": ".py",
      "mimetype": "text/x-python",
      "name": "python",
      "nbconvert_exporter": "python",
      "pygments_lexer": "ipython3",
      "version": "3.6.13"
    },
    "colab": {
      "name": "Assignment7.ipynb",
      "provenance": [],
      "include_colab_link": true
    },
    "accelerator": "GPU",
    "widgets": {
      "application/vnd.jupyter.widget-state+json": {
        "5cef3d677f5544aea7103eede9220faf": {
          "model_module": "@jupyter-widgets/controls",
          "model_name": "HBoxModel",
          "model_module_version": "1.5.0",
          "state": {
            "_view_name": "HBoxView",
            "_dom_classes": [],
            "_model_name": "HBoxModel",
            "_view_module": "@jupyter-widgets/controls",
            "_model_module_version": "1.5.0",
            "_view_count": null,
            "_view_module_version": "1.5.0",
            "box_style": "",
            "layout": "IPY_MODEL_ff3a48114ca44d058025377d5f86f1c5",
            "_model_module": "@jupyter-widgets/controls",
            "children": [
              "IPY_MODEL_6f203676f1ca4520bc4b83fd5de44742",
              "IPY_MODEL_b098ec0dd2c64070b6dcf81cbf777c6d",
              "IPY_MODEL_85c07f6528bb411f92a0d7f4338bc793"
            ]
          }
        },
        "ff3a48114ca44d058025377d5f86f1c5": {
          "model_module": "@jupyter-widgets/base",
          "model_name": "LayoutModel",
          "model_module_version": "1.2.0",
          "state": {
            "_view_name": "LayoutView",
            "grid_template_rows": null,
            "right": null,
            "justify_content": null,
            "_view_module": "@jupyter-widgets/base",
            "overflow": null,
            "_model_module_version": "1.2.0",
            "_view_count": null,
            "flex_flow": null,
            "width": null,
            "min_width": null,
            "border": null,
            "align_items": null,
            "bottom": null,
            "_model_module": "@jupyter-widgets/base",
            "top": null,
            "grid_column": null,
            "overflow_y": null,
            "overflow_x": null,
            "grid_auto_flow": null,
            "grid_area": null,
            "grid_template_columns": null,
            "flex": null,
            "_model_name": "LayoutModel",
            "justify_items": null,
            "grid_row": null,
            "max_height": null,
            "align_content": null,
            "visibility": null,
            "align_self": null,
            "height": null,
            "min_height": null,
            "padding": null,
            "grid_auto_rows": null,
            "grid_gap": null,
            "max_width": null,
            "order": null,
            "_view_module_version": "1.2.0",
            "grid_template_areas": null,
            "object_position": null,
            "object_fit": null,
            "grid_auto_columns": null,
            "margin": null,
            "display": null,
            "left": null
          }
        },
        "6f203676f1ca4520bc4b83fd5de44742": {
          "model_module": "@jupyter-widgets/controls",
          "model_name": "HTMLModel",
          "model_module_version": "1.5.0",
          "state": {
            "_view_name": "HTMLView",
            "style": "IPY_MODEL_645830fa4011455980545b9976f51089",
            "_dom_classes": [],
            "description": "",
            "_model_name": "HTMLModel",
            "placeholder": "​",
            "_view_module": "@jupyter-widgets/controls",
            "_model_module_version": "1.5.0",
            "value": "Downloading: 100%",
            "_view_count": null,
            "_view_module_version": "1.5.0",
            "description_tooltip": null,
            "_model_module": "@jupyter-widgets/controls",
            "layout": "IPY_MODEL_4c1a5bf84bb442589ef9b526bce45089"
          }
        },
        "b098ec0dd2c64070b6dcf81cbf777c6d": {
          "model_module": "@jupyter-widgets/controls",
          "model_name": "FloatProgressModel",
          "model_module_version": "1.5.0",
          "state": {
            "_view_name": "ProgressView",
            "style": "IPY_MODEL_9116374fc588429d8bdc5c07f3f2f69a",
            "_dom_classes": [],
            "description": "",
            "_model_name": "FloatProgressModel",
            "bar_style": "success",
            "max": 482,
            "_view_module": "@jupyter-widgets/controls",
            "_model_module_version": "1.5.0",
            "value": 482,
            "_view_count": null,
            "_view_module_version": "1.5.0",
            "orientation": "horizontal",
            "min": 0,
            "description_tooltip": null,
            "_model_module": "@jupyter-widgets/controls",
            "layout": "IPY_MODEL_9c66bd9b15ea45e2a218086ffd005d53"
          }
        },
        "85c07f6528bb411f92a0d7f4338bc793": {
          "model_module": "@jupyter-widgets/controls",
          "model_name": "HTMLModel",
          "model_module_version": "1.5.0",
          "state": {
            "_view_name": "HTMLView",
            "style": "IPY_MODEL_cee9aa72bfee4e42a6adba1dd4d5f157",
            "_dom_classes": [],
            "description": "",
            "_model_name": "HTMLModel",
            "placeholder": "​",
            "_view_module": "@jupyter-widgets/controls",
            "_model_module_version": "1.5.0",
            "value": " 482/482 [00:00&lt;00:00, 12.3kB/s]",
            "_view_count": null,
            "_view_module_version": "1.5.0",
            "description_tooltip": null,
            "_model_module": "@jupyter-widgets/controls",
            "layout": "IPY_MODEL_504c5bdb358340c48d8e868c02ff0f1b"
          }
        },
        "645830fa4011455980545b9976f51089": {
          "model_module": "@jupyter-widgets/controls",
          "model_name": "DescriptionStyleModel",
          "model_module_version": "1.5.0",
          "state": {
            "_view_name": "StyleView",
            "_model_name": "DescriptionStyleModel",
            "description_width": "",
            "_view_module": "@jupyter-widgets/base",
            "_model_module_version": "1.5.0",
            "_view_count": null,
            "_view_module_version": "1.2.0",
            "_model_module": "@jupyter-widgets/controls"
          }
        },
        "4c1a5bf84bb442589ef9b526bce45089": {
          "model_module": "@jupyter-widgets/base",
          "model_name": "LayoutModel",
          "model_module_version": "1.2.0",
          "state": {
            "_view_name": "LayoutView",
            "grid_template_rows": null,
            "right": null,
            "justify_content": null,
            "_view_module": "@jupyter-widgets/base",
            "overflow": null,
            "_model_module_version": "1.2.0",
            "_view_count": null,
            "flex_flow": null,
            "width": null,
            "min_width": null,
            "border": null,
            "align_items": null,
            "bottom": null,
            "_model_module": "@jupyter-widgets/base",
            "top": null,
            "grid_column": null,
            "overflow_y": null,
            "overflow_x": null,
            "grid_auto_flow": null,
            "grid_area": null,
            "grid_template_columns": null,
            "flex": null,
            "_model_name": "LayoutModel",
            "justify_items": null,
            "grid_row": null,
            "max_height": null,
            "align_content": null,
            "visibility": null,
            "align_self": null,
            "height": null,
            "min_height": null,
            "padding": null,
            "grid_auto_rows": null,
            "grid_gap": null,
            "max_width": null,
            "order": null,
            "_view_module_version": "1.2.0",
            "grid_template_areas": null,
            "object_position": null,
            "object_fit": null,
            "grid_auto_columns": null,
            "margin": null,
            "display": null,
            "left": null
          }
        },
        "9116374fc588429d8bdc5c07f3f2f69a": {
          "model_module": "@jupyter-widgets/controls",
          "model_name": "ProgressStyleModel",
          "model_module_version": "1.5.0",
          "state": {
            "_view_name": "StyleView",
            "_model_name": "ProgressStyleModel",
            "description_width": "",
            "_view_module": "@jupyter-widgets/base",
            "_model_module_version": "1.5.0",
            "_view_count": null,
            "_view_module_version": "1.2.0",
            "bar_color": null,
            "_model_module": "@jupyter-widgets/controls"
          }
        },
        "9c66bd9b15ea45e2a218086ffd005d53": {
          "model_module": "@jupyter-widgets/base",
          "model_name": "LayoutModel",
          "model_module_version": "1.2.0",
          "state": {
            "_view_name": "LayoutView",
            "grid_template_rows": null,
            "right": null,
            "justify_content": null,
            "_view_module": "@jupyter-widgets/base",
            "overflow": null,
            "_model_module_version": "1.2.0",
            "_view_count": null,
            "flex_flow": null,
            "width": null,
            "min_width": null,
            "border": null,
            "align_items": null,
            "bottom": null,
            "_model_module": "@jupyter-widgets/base",
            "top": null,
            "grid_column": null,
            "overflow_y": null,
            "overflow_x": null,
            "grid_auto_flow": null,
            "grid_area": null,
            "grid_template_columns": null,
            "flex": null,
            "_model_name": "LayoutModel",
            "justify_items": null,
            "grid_row": null,
            "max_height": null,
            "align_content": null,
            "visibility": null,
            "align_self": null,
            "height": null,
            "min_height": null,
            "padding": null,
            "grid_auto_rows": null,
            "grid_gap": null,
            "max_width": null,
            "order": null,
            "_view_module_version": "1.2.0",
            "grid_template_areas": null,
            "object_position": null,
            "object_fit": null,
            "grid_auto_columns": null,
            "margin": null,
            "display": null,
            "left": null
          }
        },
        "cee9aa72bfee4e42a6adba1dd4d5f157": {
          "model_module": "@jupyter-widgets/controls",
          "model_name": "DescriptionStyleModel",
          "model_module_version": "1.5.0",
          "state": {
            "_view_name": "StyleView",
            "_model_name": "DescriptionStyleModel",
            "description_width": "",
            "_view_module": "@jupyter-widgets/base",
            "_model_module_version": "1.5.0",
            "_view_count": null,
            "_view_module_version": "1.2.0",
            "_model_module": "@jupyter-widgets/controls"
          }
        },
        "504c5bdb358340c48d8e868c02ff0f1b": {
          "model_module": "@jupyter-widgets/base",
          "model_name": "LayoutModel",
          "model_module_version": "1.2.0",
          "state": {
            "_view_name": "LayoutView",
            "grid_template_rows": null,
            "right": null,
            "justify_content": null,
            "_view_module": "@jupyter-widgets/base",
            "overflow": null,
            "_model_module_version": "1.2.0",
            "_view_count": null,
            "flex_flow": null,
            "width": null,
            "min_width": null,
            "border": null,
            "align_items": null,
            "bottom": null,
            "_model_module": "@jupyter-widgets/base",
            "top": null,
            "grid_column": null,
            "overflow_y": null,
            "overflow_x": null,
            "grid_auto_flow": null,
            "grid_area": null,
            "grid_template_columns": null,
            "flex": null,
            "_model_name": "LayoutModel",
            "justify_items": null,
            "grid_row": null,
            "max_height": null,
            "align_content": null,
            "visibility": null,
            "align_self": null,
            "height": null,
            "min_height": null,
            "padding": null,
            "grid_auto_rows": null,
            "grid_gap": null,
            "max_width": null,
            "order": null,
            "_view_module_version": "1.2.0",
            "grid_template_areas": null,
            "object_position": null,
            "object_fit": null,
            "grid_auto_columns": null,
            "margin": null,
            "display": null,
            "left": null
          }
        },
        "24bf759917f146999da4d221d4eaa98a": {
          "model_module": "@jupyter-widgets/controls",
          "model_name": "HBoxModel",
          "model_module_version": "1.5.0",
          "state": {
            "_view_name": "HBoxView",
            "_dom_classes": [],
            "_model_name": "HBoxModel",
            "_view_module": "@jupyter-widgets/controls",
            "_model_module_version": "1.5.0",
            "_view_count": null,
            "_view_module_version": "1.5.0",
            "box_style": "",
            "layout": "IPY_MODEL_6da5aa9fd6df48c5a8c7317039ef1494",
            "_model_module": "@jupyter-widgets/controls",
            "children": [
              "IPY_MODEL_b80d46fc319042faac62a475d026a2f9",
              "IPY_MODEL_0607a44e93254508b7b0356c19f78174",
              "IPY_MODEL_f9a5c58709e844cda77b6fa4421f86e4"
            ]
          }
        },
        "6da5aa9fd6df48c5a8c7317039ef1494": {
          "model_module": "@jupyter-widgets/base",
          "model_name": "LayoutModel",
          "model_module_version": "1.2.0",
          "state": {
            "_view_name": "LayoutView",
            "grid_template_rows": null,
            "right": null,
            "justify_content": null,
            "_view_module": "@jupyter-widgets/base",
            "overflow": null,
            "_model_module_version": "1.2.0",
            "_view_count": null,
            "flex_flow": null,
            "width": null,
            "min_width": null,
            "border": null,
            "align_items": null,
            "bottom": null,
            "_model_module": "@jupyter-widgets/base",
            "top": null,
            "grid_column": null,
            "overflow_y": null,
            "overflow_x": null,
            "grid_auto_flow": null,
            "grid_area": null,
            "grid_template_columns": null,
            "flex": null,
            "_model_name": "LayoutModel",
            "justify_items": null,
            "grid_row": null,
            "max_height": null,
            "align_content": null,
            "visibility": null,
            "align_self": null,
            "height": null,
            "min_height": null,
            "padding": null,
            "grid_auto_rows": null,
            "grid_gap": null,
            "max_width": null,
            "order": null,
            "_view_module_version": "1.2.0",
            "grid_template_areas": null,
            "object_position": null,
            "object_fit": null,
            "grid_auto_columns": null,
            "margin": null,
            "display": null,
            "left": null
          }
        },
        "b80d46fc319042faac62a475d026a2f9": {
          "model_module": "@jupyter-widgets/controls",
          "model_name": "HTMLModel",
          "model_module_version": "1.5.0",
          "state": {
            "_view_name": "HTMLView",
            "style": "IPY_MODEL_409f2b9d25964dc6a0b5a4d94f089578",
            "_dom_classes": [],
            "description": "",
            "_model_name": "HTMLModel",
            "placeholder": "​",
            "_view_module": "@jupyter-widgets/controls",
            "_model_module_version": "1.5.0",
            "value": "Downloading: 100%",
            "_view_count": null,
            "_view_module_version": "1.5.0",
            "description_tooltip": null,
            "_model_module": "@jupyter-widgets/controls",
            "layout": "IPY_MODEL_ee586747b9c948ed95777332449c323d"
          }
        },
        "0607a44e93254508b7b0356c19f78174": {
          "model_module": "@jupyter-widgets/controls",
          "model_name": "FloatProgressModel",
          "model_module_version": "1.5.0",
          "state": {
            "_view_name": "ProgressView",
            "style": "IPY_MODEL_00d0d7d842b84958b0d475724ea7ec87",
            "_dom_classes": [],
            "description": "",
            "_model_name": "FloatProgressModel",
            "bar_style": "success",
            "max": 898823,
            "_view_module": "@jupyter-widgets/controls",
            "_model_module_version": "1.5.0",
            "value": 898823,
            "_view_count": null,
            "_view_module_version": "1.5.0",
            "orientation": "horizontal",
            "min": 0,
            "description_tooltip": null,
            "_model_module": "@jupyter-widgets/controls",
            "layout": "IPY_MODEL_e076aba646a7486db4f8e971d1bc5c48"
          }
        },
        "f9a5c58709e844cda77b6fa4421f86e4": {
          "model_module": "@jupyter-widgets/controls",
          "model_name": "HTMLModel",
          "model_module_version": "1.5.0",
          "state": {
            "_view_name": "HTMLView",
            "style": "IPY_MODEL_50dc26b582764a568f0c2a3bd50e5de5",
            "_dom_classes": [],
            "description": "",
            "_model_name": "HTMLModel",
            "placeholder": "​",
            "_view_module": "@jupyter-widgets/controls",
            "_model_module_version": "1.5.0",
            "value": " 878k/878k [00:00&lt;00:00, 698kB/s]",
            "_view_count": null,
            "_view_module_version": "1.5.0",
            "description_tooltip": null,
            "_model_module": "@jupyter-widgets/controls",
            "layout": "IPY_MODEL_7e66883723bc44f893baffc2ea5dee49"
          }
        },
        "409f2b9d25964dc6a0b5a4d94f089578": {
          "model_module": "@jupyter-widgets/controls",
          "model_name": "DescriptionStyleModel",
          "model_module_version": "1.5.0",
          "state": {
            "_view_name": "StyleView",
            "_model_name": "DescriptionStyleModel",
            "description_width": "",
            "_view_module": "@jupyter-widgets/base",
            "_model_module_version": "1.5.0",
            "_view_count": null,
            "_view_module_version": "1.2.0",
            "_model_module": "@jupyter-widgets/controls"
          }
        },
        "ee586747b9c948ed95777332449c323d": {
          "model_module": "@jupyter-widgets/base",
          "model_name": "LayoutModel",
          "model_module_version": "1.2.0",
          "state": {
            "_view_name": "LayoutView",
            "grid_template_rows": null,
            "right": null,
            "justify_content": null,
            "_view_module": "@jupyter-widgets/base",
            "overflow": null,
            "_model_module_version": "1.2.0",
            "_view_count": null,
            "flex_flow": null,
            "width": null,
            "min_width": null,
            "border": null,
            "align_items": null,
            "bottom": null,
            "_model_module": "@jupyter-widgets/base",
            "top": null,
            "grid_column": null,
            "overflow_y": null,
            "overflow_x": null,
            "grid_auto_flow": null,
            "grid_area": null,
            "grid_template_columns": null,
            "flex": null,
            "_model_name": "LayoutModel",
            "justify_items": null,
            "grid_row": null,
            "max_height": null,
            "align_content": null,
            "visibility": null,
            "align_self": null,
            "height": null,
            "min_height": null,
            "padding": null,
            "grid_auto_rows": null,
            "grid_gap": null,
            "max_width": null,
            "order": null,
            "_view_module_version": "1.2.0",
            "grid_template_areas": null,
            "object_position": null,
            "object_fit": null,
            "grid_auto_columns": null,
            "margin": null,
            "display": null,
            "left": null
          }
        },
        "00d0d7d842b84958b0d475724ea7ec87": {
          "model_module": "@jupyter-widgets/controls",
          "model_name": "ProgressStyleModel",
          "model_module_version": "1.5.0",
          "state": {
            "_view_name": "StyleView",
            "_model_name": "ProgressStyleModel",
            "description_width": "",
            "_view_module": "@jupyter-widgets/base",
            "_model_module_version": "1.5.0",
            "_view_count": null,
            "_view_module_version": "1.2.0",
            "bar_color": null,
            "_model_module": "@jupyter-widgets/controls"
          }
        },
        "e076aba646a7486db4f8e971d1bc5c48": {
          "model_module": "@jupyter-widgets/base",
          "model_name": "LayoutModel",
          "model_module_version": "1.2.0",
          "state": {
            "_view_name": "LayoutView",
            "grid_template_rows": null,
            "right": null,
            "justify_content": null,
            "_view_module": "@jupyter-widgets/base",
            "overflow": null,
            "_model_module_version": "1.2.0",
            "_view_count": null,
            "flex_flow": null,
            "width": null,
            "min_width": null,
            "border": null,
            "align_items": null,
            "bottom": null,
            "_model_module": "@jupyter-widgets/base",
            "top": null,
            "grid_column": null,
            "overflow_y": null,
            "overflow_x": null,
            "grid_auto_flow": null,
            "grid_area": null,
            "grid_template_columns": null,
            "flex": null,
            "_model_name": "LayoutModel",
            "justify_items": null,
            "grid_row": null,
            "max_height": null,
            "align_content": null,
            "visibility": null,
            "align_self": null,
            "height": null,
            "min_height": null,
            "padding": null,
            "grid_auto_rows": null,
            "grid_gap": null,
            "max_width": null,
            "order": null,
            "_view_module_version": "1.2.0",
            "grid_template_areas": null,
            "object_position": null,
            "object_fit": null,
            "grid_auto_columns": null,
            "margin": null,
            "display": null,
            "left": null
          }
        },
        "50dc26b582764a568f0c2a3bd50e5de5": {
          "model_module": "@jupyter-widgets/controls",
          "model_name": "DescriptionStyleModel",
          "model_module_version": "1.5.0",
          "state": {
            "_view_name": "StyleView",
            "_model_name": "DescriptionStyleModel",
            "description_width": "",
            "_view_module": "@jupyter-widgets/base",
            "_model_module_version": "1.5.0",
            "_view_count": null,
            "_view_module_version": "1.2.0",
            "_model_module": "@jupyter-widgets/controls"
          }
        },
        "7e66883723bc44f893baffc2ea5dee49": {
          "model_module": "@jupyter-widgets/base",
          "model_name": "LayoutModel",
          "model_module_version": "1.2.0",
          "state": {
            "_view_name": "LayoutView",
            "grid_template_rows": null,
            "right": null,
            "justify_content": null,
            "_view_module": "@jupyter-widgets/base",
            "overflow": null,
            "_model_module_version": "1.2.0",
            "_view_count": null,
            "flex_flow": null,
            "width": null,
            "min_width": null,
            "border": null,
            "align_items": null,
            "bottom": null,
            "_model_module": "@jupyter-widgets/base",
            "top": null,
            "grid_column": null,
            "overflow_y": null,
            "overflow_x": null,
            "grid_auto_flow": null,
            "grid_area": null,
            "grid_template_columns": null,
            "flex": null,
            "_model_name": "LayoutModel",
            "justify_items": null,
            "grid_row": null,
            "max_height": null,
            "align_content": null,
            "visibility": null,
            "align_self": null,
            "height": null,
            "min_height": null,
            "padding": null,
            "grid_auto_rows": null,
            "grid_gap": null,
            "max_width": null,
            "order": null,
            "_view_module_version": "1.2.0",
            "grid_template_areas": null,
            "object_position": null,
            "object_fit": null,
            "grid_auto_columns": null,
            "margin": null,
            "display": null,
            "left": null
          }
        },
        "a49324032d114da2921251a61e8fdfa0": {
          "model_module": "@jupyter-widgets/controls",
          "model_name": "HBoxModel",
          "model_module_version": "1.5.0",
          "state": {
            "_view_name": "HBoxView",
            "_dom_classes": [],
            "_model_name": "HBoxModel",
            "_view_module": "@jupyter-widgets/controls",
            "_model_module_version": "1.5.0",
            "_view_count": null,
            "_view_module_version": "1.5.0",
            "box_style": "",
            "layout": "IPY_MODEL_85f4332d042e4e83b60a8e3e8f6ac647",
            "_model_module": "@jupyter-widgets/controls",
            "children": [
              "IPY_MODEL_d9301c647c8047a5a05723578c7d92bd",
              "IPY_MODEL_a1f5204f3bac41f69d3121676f12b32b",
              "IPY_MODEL_29c4d1b2092241d28ebd96dcdd3d633b"
            ]
          }
        },
        "85f4332d042e4e83b60a8e3e8f6ac647": {
          "model_module": "@jupyter-widgets/base",
          "model_name": "LayoutModel",
          "model_module_version": "1.2.0",
          "state": {
            "_view_name": "LayoutView",
            "grid_template_rows": null,
            "right": null,
            "justify_content": null,
            "_view_module": "@jupyter-widgets/base",
            "overflow": null,
            "_model_module_version": "1.2.0",
            "_view_count": null,
            "flex_flow": null,
            "width": null,
            "min_width": null,
            "border": null,
            "align_items": null,
            "bottom": null,
            "_model_module": "@jupyter-widgets/base",
            "top": null,
            "grid_column": null,
            "overflow_y": null,
            "overflow_x": null,
            "grid_auto_flow": null,
            "grid_area": null,
            "grid_template_columns": null,
            "flex": null,
            "_model_name": "LayoutModel",
            "justify_items": null,
            "grid_row": null,
            "max_height": null,
            "align_content": null,
            "visibility": null,
            "align_self": null,
            "height": null,
            "min_height": null,
            "padding": null,
            "grid_auto_rows": null,
            "grid_gap": null,
            "max_width": null,
            "order": null,
            "_view_module_version": "1.2.0",
            "grid_template_areas": null,
            "object_position": null,
            "object_fit": null,
            "grid_auto_columns": null,
            "margin": null,
            "display": null,
            "left": null
          }
        },
        "d9301c647c8047a5a05723578c7d92bd": {
          "model_module": "@jupyter-widgets/controls",
          "model_name": "HTMLModel",
          "model_module_version": "1.5.0",
          "state": {
            "_view_name": "HTMLView",
            "style": "IPY_MODEL_45ef4d08d4264b228293c14b1addc7ee",
            "_dom_classes": [],
            "description": "",
            "_model_name": "HTMLModel",
            "placeholder": "​",
            "_view_module": "@jupyter-widgets/controls",
            "_model_module_version": "1.5.0",
            "value": "Downloading: 100%",
            "_view_count": null,
            "_view_module_version": "1.5.0",
            "description_tooltip": null,
            "_model_module": "@jupyter-widgets/controls",
            "layout": "IPY_MODEL_7bb8b749e0a14e998c39803bbf507d8b"
          }
        },
        "a1f5204f3bac41f69d3121676f12b32b": {
          "model_module": "@jupyter-widgets/controls",
          "model_name": "FloatProgressModel",
          "model_module_version": "1.5.0",
          "state": {
            "_view_name": "ProgressView",
            "style": "IPY_MODEL_89eceed980f6460dacc1aaeea4533cdb",
            "_dom_classes": [],
            "description": "",
            "_model_name": "FloatProgressModel",
            "bar_style": "success",
            "max": 456318,
            "_view_module": "@jupyter-widgets/controls",
            "_model_module_version": "1.5.0",
            "value": 456318,
            "_view_count": null,
            "_view_module_version": "1.5.0",
            "orientation": "horizontal",
            "min": 0,
            "description_tooltip": null,
            "_model_module": "@jupyter-widgets/controls",
            "layout": "IPY_MODEL_4286d01fca974fc6ab9adfb424232cc0"
          }
        },
        "29c4d1b2092241d28ebd96dcdd3d633b": {
          "model_module": "@jupyter-widgets/controls",
          "model_name": "HTMLModel",
          "model_module_version": "1.5.0",
          "state": {
            "_view_name": "HTMLView",
            "style": "IPY_MODEL_c15cd171098944448f49984c76ff3cc2",
            "_dom_classes": [],
            "description": "",
            "_model_name": "HTMLModel",
            "placeholder": "​",
            "_view_module": "@jupyter-widgets/controls",
            "_model_module_version": "1.5.0",
            "value": " 446k/446k [00:00&lt;00:00, 690kB/s]",
            "_view_count": null,
            "_view_module_version": "1.5.0",
            "description_tooltip": null,
            "_model_module": "@jupyter-widgets/controls",
            "layout": "IPY_MODEL_b0e8e4051bdb4b2c8e569ac9ca694f36"
          }
        },
        "45ef4d08d4264b228293c14b1addc7ee": {
          "model_module": "@jupyter-widgets/controls",
          "model_name": "DescriptionStyleModel",
          "model_module_version": "1.5.0",
          "state": {
            "_view_name": "StyleView",
            "_model_name": "DescriptionStyleModel",
            "description_width": "",
            "_view_module": "@jupyter-widgets/base",
            "_model_module_version": "1.5.0",
            "_view_count": null,
            "_view_module_version": "1.2.0",
            "_model_module": "@jupyter-widgets/controls"
          }
        },
        "7bb8b749e0a14e998c39803bbf507d8b": {
          "model_module": "@jupyter-widgets/base",
          "model_name": "LayoutModel",
          "model_module_version": "1.2.0",
          "state": {
            "_view_name": "LayoutView",
            "grid_template_rows": null,
            "right": null,
            "justify_content": null,
            "_view_module": "@jupyter-widgets/base",
            "overflow": null,
            "_model_module_version": "1.2.0",
            "_view_count": null,
            "flex_flow": null,
            "width": null,
            "min_width": null,
            "border": null,
            "align_items": null,
            "bottom": null,
            "_model_module": "@jupyter-widgets/base",
            "top": null,
            "grid_column": null,
            "overflow_y": null,
            "overflow_x": null,
            "grid_auto_flow": null,
            "grid_area": null,
            "grid_template_columns": null,
            "flex": null,
            "_model_name": "LayoutModel",
            "justify_items": null,
            "grid_row": null,
            "max_height": null,
            "align_content": null,
            "visibility": null,
            "align_self": null,
            "height": null,
            "min_height": null,
            "padding": null,
            "grid_auto_rows": null,
            "grid_gap": null,
            "max_width": null,
            "order": null,
            "_view_module_version": "1.2.0",
            "grid_template_areas": null,
            "object_position": null,
            "object_fit": null,
            "grid_auto_columns": null,
            "margin": null,
            "display": null,
            "left": null
          }
        },
        "89eceed980f6460dacc1aaeea4533cdb": {
          "model_module": "@jupyter-widgets/controls",
          "model_name": "ProgressStyleModel",
          "model_module_version": "1.5.0",
          "state": {
            "_view_name": "StyleView",
            "_model_name": "ProgressStyleModel",
            "description_width": "",
            "_view_module": "@jupyter-widgets/base",
            "_model_module_version": "1.5.0",
            "_view_count": null,
            "_view_module_version": "1.2.0",
            "bar_color": null,
            "_model_module": "@jupyter-widgets/controls"
          }
        },
        "4286d01fca974fc6ab9adfb424232cc0": {
          "model_module": "@jupyter-widgets/base",
          "model_name": "LayoutModel",
          "model_module_version": "1.2.0",
          "state": {
            "_view_name": "LayoutView",
            "grid_template_rows": null,
            "right": null,
            "justify_content": null,
            "_view_module": "@jupyter-widgets/base",
            "overflow": null,
            "_model_module_version": "1.2.0",
            "_view_count": null,
            "flex_flow": null,
            "width": null,
            "min_width": null,
            "border": null,
            "align_items": null,
            "bottom": null,
            "_model_module": "@jupyter-widgets/base",
            "top": null,
            "grid_column": null,
            "overflow_y": null,
            "overflow_x": null,
            "grid_auto_flow": null,
            "grid_area": null,
            "grid_template_columns": null,
            "flex": null,
            "_model_name": "LayoutModel",
            "justify_items": null,
            "grid_row": null,
            "max_height": null,
            "align_content": null,
            "visibility": null,
            "align_self": null,
            "height": null,
            "min_height": null,
            "padding": null,
            "grid_auto_rows": null,
            "grid_gap": null,
            "max_width": null,
            "order": null,
            "_view_module_version": "1.2.0",
            "grid_template_areas": null,
            "object_position": null,
            "object_fit": null,
            "grid_auto_columns": null,
            "margin": null,
            "display": null,
            "left": null
          }
        },
        "c15cd171098944448f49984c76ff3cc2": {
          "model_module": "@jupyter-widgets/controls",
          "model_name": "DescriptionStyleModel",
          "model_module_version": "1.5.0",
          "state": {
            "_view_name": "StyleView",
            "_model_name": "DescriptionStyleModel",
            "description_width": "",
            "_view_module": "@jupyter-widgets/base",
            "_model_module_version": "1.5.0",
            "_view_count": null,
            "_view_module_version": "1.2.0",
            "_model_module": "@jupyter-widgets/controls"
          }
        },
        "b0e8e4051bdb4b2c8e569ac9ca694f36": {
          "model_module": "@jupyter-widgets/base",
          "model_name": "LayoutModel",
          "model_module_version": "1.2.0",
          "state": {
            "_view_name": "LayoutView",
            "grid_template_rows": null,
            "right": null,
            "justify_content": null,
            "_view_module": "@jupyter-widgets/base",
            "overflow": null,
            "_model_module_version": "1.2.0",
            "_view_count": null,
            "flex_flow": null,
            "width": null,
            "min_width": null,
            "border": null,
            "align_items": null,
            "bottom": null,
            "_model_module": "@jupyter-widgets/base",
            "top": null,
            "grid_column": null,
            "overflow_y": null,
            "overflow_x": null,
            "grid_auto_flow": null,
            "grid_area": null,
            "grid_template_columns": null,
            "flex": null,
            "_model_name": "LayoutModel",
            "justify_items": null,
            "grid_row": null,
            "max_height": null,
            "align_content": null,
            "visibility": null,
            "align_self": null,
            "height": null,
            "min_height": null,
            "padding": null,
            "grid_auto_rows": null,
            "grid_gap": null,
            "max_width": null,
            "order": null,
            "_view_module_version": "1.2.0",
            "grid_template_areas": null,
            "object_position": null,
            "object_fit": null,
            "grid_auto_columns": null,
            "margin": null,
            "display": null,
            "left": null
          }
        },
        "2a7af9bd2236429f9117190a871e412c": {
          "model_module": "@jupyter-widgets/controls",
          "model_name": "HBoxModel",
          "model_module_version": "1.5.0",
          "state": {
            "_view_name": "HBoxView",
            "_dom_classes": [],
            "_model_name": "HBoxModel",
            "_view_module": "@jupyter-widgets/controls",
            "_model_module_version": "1.5.0",
            "_view_count": null,
            "_view_module_version": "1.5.0",
            "box_style": "",
            "layout": "IPY_MODEL_013aa6b4ec6f4feabe9515df1d63ec2a",
            "_model_module": "@jupyter-widgets/controls",
            "children": [
              "IPY_MODEL_0ef1eb1a3fd54ce98af950a675e7e763",
              "IPY_MODEL_c3ebe99f1aa94e91a4f315f96afc2929",
              "IPY_MODEL_8f32c7bb4c9c4afbb1581b0c659f6e0a"
            ]
          }
        },
        "013aa6b4ec6f4feabe9515df1d63ec2a": {
          "model_module": "@jupyter-widgets/base",
          "model_name": "LayoutModel",
          "model_module_version": "1.2.0",
          "state": {
            "_view_name": "LayoutView",
            "grid_template_rows": null,
            "right": null,
            "justify_content": null,
            "_view_module": "@jupyter-widgets/base",
            "overflow": null,
            "_model_module_version": "1.2.0",
            "_view_count": null,
            "flex_flow": null,
            "width": null,
            "min_width": null,
            "border": null,
            "align_items": null,
            "bottom": null,
            "_model_module": "@jupyter-widgets/base",
            "top": null,
            "grid_column": null,
            "overflow_y": null,
            "overflow_x": null,
            "grid_auto_flow": null,
            "grid_area": null,
            "grid_template_columns": null,
            "flex": null,
            "_model_name": "LayoutModel",
            "justify_items": null,
            "grid_row": null,
            "max_height": null,
            "align_content": null,
            "visibility": null,
            "align_self": null,
            "height": null,
            "min_height": null,
            "padding": null,
            "grid_auto_rows": null,
            "grid_gap": null,
            "max_width": null,
            "order": null,
            "_view_module_version": "1.2.0",
            "grid_template_areas": null,
            "object_position": null,
            "object_fit": null,
            "grid_auto_columns": null,
            "margin": null,
            "display": null,
            "left": null
          }
        },
        "0ef1eb1a3fd54ce98af950a675e7e763": {
          "model_module": "@jupyter-widgets/controls",
          "model_name": "HTMLModel",
          "model_module_version": "1.5.0",
          "state": {
            "_view_name": "HTMLView",
            "style": "IPY_MODEL_d0afccdd82f44b788c90e3aa6fd8445a",
            "_dom_classes": [],
            "description": "",
            "_model_name": "HTMLModel",
            "placeholder": "​",
            "_view_module": "@jupyter-widgets/controls",
            "_model_module_version": "1.5.0",
            "value": "Downloading: 100%",
            "_view_count": null,
            "_view_module_version": "1.5.0",
            "description_tooltip": null,
            "_model_module": "@jupyter-widgets/controls",
            "layout": "IPY_MODEL_888d91f613bb4148b33ff68c27bf6739"
          }
        },
        "c3ebe99f1aa94e91a4f315f96afc2929": {
          "model_module": "@jupyter-widgets/controls",
          "model_name": "FloatProgressModel",
          "model_module_version": "1.5.0",
          "state": {
            "_view_name": "ProgressView",
            "style": "IPY_MODEL_33e3bea02a454e7ba9aaf94f81160d3d",
            "_dom_classes": [],
            "description": "",
            "_model_name": "FloatProgressModel",
            "bar_style": "success",
            "max": 1355863,
            "_view_module": "@jupyter-widgets/controls",
            "_model_module_version": "1.5.0",
            "value": 1355863,
            "_view_count": null,
            "_view_module_version": "1.5.0",
            "orientation": "horizontal",
            "min": 0,
            "description_tooltip": null,
            "_model_module": "@jupyter-widgets/controls",
            "layout": "IPY_MODEL_721b9e6facbe4ff2823a55d24e1b5bf3"
          }
        },
        "8f32c7bb4c9c4afbb1581b0c659f6e0a": {
          "model_module": "@jupyter-widgets/controls",
          "model_name": "HTMLModel",
          "model_module_version": "1.5.0",
          "state": {
            "_view_name": "HTMLView",
            "style": "IPY_MODEL_75be28c804714e5b803ef3058e18e3e8",
            "_dom_classes": [],
            "description": "",
            "_model_name": "HTMLModel",
            "placeholder": "​",
            "_view_module": "@jupyter-widgets/controls",
            "_model_module_version": "1.5.0",
            "value": " 1.29M/1.29M [00:01&lt;00:00, 1.14MB/s]",
            "_view_count": null,
            "_view_module_version": "1.5.0",
            "description_tooltip": null,
            "_model_module": "@jupyter-widgets/controls",
            "layout": "IPY_MODEL_0295244eac6b4d68bf31393f199c8ef8"
          }
        },
        "d0afccdd82f44b788c90e3aa6fd8445a": {
          "model_module": "@jupyter-widgets/controls",
          "model_name": "DescriptionStyleModel",
          "model_module_version": "1.5.0",
          "state": {
            "_view_name": "StyleView",
            "_model_name": "DescriptionStyleModel",
            "description_width": "",
            "_view_module": "@jupyter-widgets/base",
            "_model_module_version": "1.5.0",
            "_view_count": null,
            "_view_module_version": "1.2.0",
            "_model_module": "@jupyter-widgets/controls"
          }
        },
        "888d91f613bb4148b33ff68c27bf6739": {
          "model_module": "@jupyter-widgets/base",
          "model_name": "LayoutModel",
          "model_module_version": "1.2.0",
          "state": {
            "_view_name": "LayoutView",
            "grid_template_rows": null,
            "right": null,
            "justify_content": null,
            "_view_module": "@jupyter-widgets/base",
            "overflow": null,
            "_model_module_version": "1.2.0",
            "_view_count": null,
            "flex_flow": null,
            "width": null,
            "min_width": null,
            "border": null,
            "align_items": null,
            "bottom": null,
            "_model_module": "@jupyter-widgets/base",
            "top": null,
            "grid_column": null,
            "overflow_y": null,
            "overflow_x": null,
            "grid_auto_flow": null,
            "grid_area": null,
            "grid_template_columns": null,
            "flex": null,
            "_model_name": "LayoutModel",
            "justify_items": null,
            "grid_row": null,
            "max_height": null,
            "align_content": null,
            "visibility": null,
            "align_self": null,
            "height": null,
            "min_height": null,
            "padding": null,
            "grid_auto_rows": null,
            "grid_gap": null,
            "max_width": null,
            "order": null,
            "_view_module_version": "1.2.0",
            "grid_template_areas": null,
            "object_position": null,
            "object_fit": null,
            "grid_auto_columns": null,
            "margin": null,
            "display": null,
            "left": null
          }
        },
        "33e3bea02a454e7ba9aaf94f81160d3d": {
          "model_module": "@jupyter-widgets/controls",
          "model_name": "ProgressStyleModel",
          "model_module_version": "1.5.0",
          "state": {
            "_view_name": "StyleView",
            "_model_name": "ProgressStyleModel",
            "description_width": "",
            "_view_module": "@jupyter-widgets/base",
            "_model_module_version": "1.5.0",
            "_view_count": null,
            "_view_module_version": "1.2.0",
            "bar_color": null,
            "_model_module": "@jupyter-widgets/controls"
          }
        },
        "721b9e6facbe4ff2823a55d24e1b5bf3": {
          "model_module": "@jupyter-widgets/base",
          "model_name": "LayoutModel",
          "model_module_version": "1.2.0",
          "state": {
            "_view_name": "LayoutView",
            "grid_template_rows": null,
            "right": null,
            "justify_content": null,
            "_view_module": "@jupyter-widgets/base",
            "overflow": null,
            "_model_module_version": "1.2.0",
            "_view_count": null,
            "flex_flow": null,
            "width": null,
            "min_width": null,
            "border": null,
            "align_items": null,
            "bottom": null,
            "_model_module": "@jupyter-widgets/base",
            "top": null,
            "grid_column": null,
            "overflow_y": null,
            "overflow_x": null,
            "grid_auto_flow": null,
            "grid_area": null,
            "grid_template_columns": null,
            "flex": null,
            "_model_name": "LayoutModel",
            "justify_items": null,
            "grid_row": null,
            "max_height": null,
            "align_content": null,
            "visibility": null,
            "align_self": null,
            "height": null,
            "min_height": null,
            "padding": null,
            "grid_auto_rows": null,
            "grid_gap": null,
            "max_width": null,
            "order": null,
            "_view_module_version": "1.2.0",
            "grid_template_areas": null,
            "object_position": null,
            "object_fit": null,
            "grid_auto_columns": null,
            "margin": null,
            "display": null,
            "left": null
          }
        },
        "75be28c804714e5b803ef3058e18e3e8": {
          "model_module": "@jupyter-widgets/controls",
          "model_name": "DescriptionStyleModel",
          "model_module_version": "1.5.0",
          "state": {
            "_view_name": "StyleView",
            "_model_name": "DescriptionStyleModel",
            "description_width": "",
            "_view_module": "@jupyter-widgets/base",
            "_model_module_version": "1.5.0",
            "_view_count": null,
            "_view_module_version": "1.2.0",
            "_model_module": "@jupyter-widgets/controls"
          }
        },
        "0295244eac6b4d68bf31393f199c8ef8": {
          "model_module": "@jupyter-widgets/base",
          "model_name": "LayoutModel",
          "model_module_version": "1.2.0",
          "state": {
            "_view_name": "LayoutView",
            "grid_template_rows": null,
            "right": null,
            "justify_content": null,
            "_view_module": "@jupyter-widgets/base",
            "overflow": null,
            "_model_module_version": "1.2.0",
            "_view_count": null,
            "flex_flow": null,
            "width": null,
            "min_width": null,
            "border": null,
            "align_items": null,
            "bottom": null,
            "_model_module": "@jupyter-widgets/base",
            "top": null,
            "grid_column": null,
            "overflow_y": null,
            "overflow_x": null,
            "grid_auto_flow": null,
            "grid_area": null,
            "grid_template_columns": null,
            "flex": null,
            "_model_name": "LayoutModel",
            "justify_items": null,
            "grid_row": null,
            "max_height": null,
            "align_content": null,
            "visibility": null,
            "align_self": null,
            "height": null,
            "min_height": null,
            "padding": null,
            "grid_auto_rows": null,
            "grid_gap": null,
            "max_width": null,
            "order": null,
            "_view_module_version": "1.2.0",
            "grid_template_areas": null,
            "object_position": null,
            "object_fit": null,
            "grid_auto_columns": null,
            "margin": null,
            "display": null,
            "left": null
          }
        },
        "7207cd4c6d89428dacd9ea6a33b9a27d": {
          "model_module": "@jupyter-widgets/controls",
          "model_name": "HBoxModel",
          "model_module_version": "1.5.0",
          "state": {
            "_view_name": "HBoxView",
            "_dom_classes": [],
            "_model_name": "HBoxModel",
            "_view_module": "@jupyter-widgets/controls",
            "_model_module_version": "1.5.0",
            "_view_count": null,
            "_view_module_version": "1.5.0",
            "box_style": "",
            "layout": "IPY_MODEL_38b541ca8c57423baca178e54de87754",
            "_model_module": "@jupyter-widgets/controls",
            "children": [
              "IPY_MODEL_348aef4a18d14c1b9f9d6552d0ad4b90",
              "IPY_MODEL_a9838e99a4d943e0af673fe25f465f17",
              "IPY_MODEL_fc4f38f1629a47438c65b73d0fda52ab"
            ]
          }
        },
        "38b541ca8c57423baca178e54de87754": {
          "model_module": "@jupyter-widgets/base",
          "model_name": "LayoutModel",
          "model_module_version": "1.2.0",
          "state": {
            "_view_name": "LayoutView",
            "grid_template_rows": null,
            "right": null,
            "justify_content": null,
            "_view_module": "@jupyter-widgets/base",
            "overflow": null,
            "_model_module_version": "1.2.0",
            "_view_count": null,
            "flex_flow": null,
            "width": null,
            "min_width": null,
            "border": null,
            "align_items": null,
            "bottom": null,
            "_model_module": "@jupyter-widgets/base",
            "top": null,
            "grid_column": null,
            "overflow_y": null,
            "overflow_x": null,
            "grid_auto_flow": null,
            "grid_area": null,
            "grid_template_columns": null,
            "flex": null,
            "_model_name": "LayoutModel",
            "justify_items": null,
            "grid_row": null,
            "max_height": null,
            "align_content": null,
            "visibility": null,
            "align_self": null,
            "height": null,
            "min_height": null,
            "padding": null,
            "grid_auto_rows": null,
            "grid_gap": null,
            "max_width": null,
            "order": null,
            "_view_module_version": "1.2.0",
            "grid_template_areas": null,
            "object_position": null,
            "object_fit": null,
            "grid_auto_columns": null,
            "margin": null,
            "display": null,
            "left": null
          }
        },
        "348aef4a18d14c1b9f9d6552d0ad4b90": {
          "model_module": "@jupyter-widgets/controls",
          "model_name": "HTMLModel",
          "model_module_version": "1.5.0",
          "state": {
            "_view_name": "HTMLView",
            "style": "IPY_MODEL_f7ffcc57387c4fe1a0d25eb8945f8319",
            "_dom_classes": [],
            "description": "",
            "_model_name": "HTMLModel",
            "placeholder": "​",
            "_view_module": "@jupyter-widgets/controls",
            "_model_module_version": "1.5.0",
            "value": "Downloading: 100%",
            "_view_count": null,
            "_view_module_version": "1.5.0",
            "description_tooltip": null,
            "_model_module": "@jupyter-widgets/controls",
            "layout": "IPY_MODEL_8e6b8085188e49eb91d86a48a964b65f"
          }
        },
        "a9838e99a4d943e0af673fe25f465f17": {
          "model_module": "@jupyter-widgets/controls",
          "model_name": "FloatProgressModel",
          "model_module_version": "1.5.0",
          "state": {
            "_view_name": "ProgressView",
            "style": "IPY_MODEL_7b16bd2a280b407781a0e1ec975c2160",
            "_dom_classes": [],
            "description": "",
            "_model_name": "FloatProgressModel",
            "bar_style": "success",
            "max": 1425941629,
            "_view_module": "@jupyter-widgets/controls",
            "_model_module_version": "1.5.0",
            "value": 1425941629,
            "_view_count": null,
            "_view_module_version": "1.5.0",
            "orientation": "horizontal",
            "min": 0,
            "description_tooltip": null,
            "_model_module": "@jupyter-widgets/controls",
            "layout": "IPY_MODEL_be0c0f391c1e4087bbd17b7b4cfca773"
          }
        },
        "fc4f38f1629a47438c65b73d0fda52ab": {
          "model_module": "@jupyter-widgets/controls",
          "model_name": "HTMLModel",
          "model_module_version": "1.5.0",
          "state": {
            "_view_name": "HTMLView",
            "style": "IPY_MODEL_c46f60836cbe4a288f50064b0cc86d6b",
            "_dom_classes": [],
            "description": "",
            "_model_name": "HTMLModel",
            "placeholder": "​",
            "_view_module": "@jupyter-widgets/controls",
            "_model_module_version": "1.5.0",
            "value": " 1.33G/1.33G [00:49&lt;00:00, 35.1MB/s]",
            "_view_count": null,
            "_view_module_version": "1.5.0",
            "description_tooltip": null,
            "_model_module": "@jupyter-widgets/controls",
            "layout": "IPY_MODEL_1cf30540ac7a45c7a984093943d034bb"
          }
        },
        "f7ffcc57387c4fe1a0d25eb8945f8319": {
          "model_module": "@jupyter-widgets/controls",
          "model_name": "DescriptionStyleModel",
          "model_module_version": "1.5.0",
          "state": {
            "_view_name": "StyleView",
            "_model_name": "DescriptionStyleModel",
            "description_width": "",
            "_view_module": "@jupyter-widgets/base",
            "_model_module_version": "1.5.0",
            "_view_count": null,
            "_view_module_version": "1.2.0",
            "_model_module": "@jupyter-widgets/controls"
          }
        },
        "8e6b8085188e49eb91d86a48a964b65f": {
          "model_module": "@jupyter-widgets/base",
          "model_name": "LayoutModel",
          "model_module_version": "1.2.0",
          "state": {
            "_view_name": "LayoutView",
            "grid_template_rows": null,
            "right": null,
            "justify_content": null,
            "_view_module": "@jupyter-widgets/base",
            "overflow": null,
            "_model_module_version": "1.2.0",
            "_view_count": null,
            "flex_flow": null,
            "width": null,
            "min_width": null,
            "border": null,
            "align_items": null,
            "bottom": null,
            "_model_module": "@jupyter-widgets/base",
            "top": null,
            "grid_column": null,
            "overflow_y": null,
            "overflow_x": null,
            "grid_auto_flow": null,
            "grid_area": null,
            "grid_template_columns": null,
            "flex": null,
            "_model_name": "LayoutModel",
            "justify_items": null,
            "grid_row": null,
            "max_height": null,
            "align_content": null,
            "visibility": null,
            "align_self": null,
            "height": null,
            "min_height": null,
            "padding": null,
            "grid_auto_rows": null,
            "grid_gap": null,
            "max_width": null,
            "order": null,
            "_view_module_version": "1.2.0",
            "grid_template_areas": null,
            "object_position": null,
            "object_fit": null,
            "grid_auto_columns": null,
            "margin": null,
            "display": null,
            "left": null
          }
        },
        "7b16bd2a280b407781a0e1ec975c2160": {
          "model_module": "@jupyter-widgets/controls",
          "model_name": "ProgressStyleModel",
          "model_module_version": "1.5.0",
          "state": {
            "_view_name": "StyleView",
            "_model_name": "ProgressStyleModel",
            "description_width": "",
            "_view_module": "@jupyter-widgets/base",
            "_model_module_version": "1.5.0",
            "_view_count": null,
            "_view_module_version": "1.2.0",
            "bar_color": null,
            "_model_module": "@jupyter-widgets/controls"
          }
        },
        "be0c0f391c1e4087bbd17b7b4cfca773": {
          "model_module": "@jupyter-widgets/base",
          "model_name": "LayoutModel",
          "model_module_version": "1.2.0",
          "state": {
            "_view_name": "LayoutView",
            "grid_template_rows": null,
            "right": null,
            "justify_content": null,
            "_view_module": "@jupyter-widgets/base",
            "overflow": null,
            "_model_module_version": "1.2.0",
            "_view_count": null,
            "flex_flow": null,
            "width": null,
            "min_width": null,
            "border": null,
            "align_items": null,
            "bottom": null,
            "_model_module": "@jupyter-widgets/base",
            "top": null,
            "grid_column": null,
            "overflow_y": null,
            "overflow_x": null,
            "grid_auto_flow": null,
            "grid_area": null,
            "grid_template_columns": null,
            "flex": null,
            "_model_name": "LayoutModel",
            "justify_items": null,
            "grid_row": null,
            "max_height": null,
            "align_content": null,
            "visibility": null,
            "align_self": null,
            "height": null,
            "min_height": null,
            "padding": null,
            "grid_auto_rows": null,
            "grid_gap": null,
            "max_width": null,
            "order": null,
            "_view_module_version": "1.2.0",
            "grid_template_areas": null,
            "object_position": null,
            "object_fit": null,
            "grid_auto_columns": null,
            "margin": null,
            "display": null,
            "left": null
          }
        },
        "c46f60836cbe4a288f50064b0cc86d6b": {
          "model_module": "@jupyter-widgets/controls",
          "model_name": "DescriptionStyleModel",
          "model_module_version": "1.5.0",
          "state": {
            "_view_name": "StyleView",
            "_model_name": "DescriptionStyleModel",
            "description_width": "",
            "_view_module": "@jupyter-widgets/base",
            "_model_module_version": "1.5.0",
            "_view_count": null,
            "_view_module_version": "1.2.0",
            "_model_module": "@jupyter-widgets/controls"
          }
        },
        "1cf30540ac7a45c7a984093943d034bb": {
          "model_module": "@jupyter-widgets/base",
          "model_name": "LayoutModel",
          "model_module_version": "1.2.0",
          "state": {
            "_view_name": "LayoutView",
            "grid_template_rows": null,
            "right": null,
            "justify_content": null,
            "_view_module": "@jupyter-widgets/base",
            "overflow": null,
            "_model_module_version": "1.2.0",
            "_view_count": null,
            "flex_flow": null,
            "width": null,
            "min_width": null,
            "border": null,
            "align_items": null,
            "bottom": null,
            "_model_module": "@jupyter-widgets/base",
            "top": null,
            "grid_column": null,
            "overflow_y": null,
            "overflow_x": null,
            "grid_auto_flow": null,
            "grid_area": null,
            "grid_template_columns": null,
            "flex": null,
            "_model_name": "LayoutModel",
            "justify_items": null,
            "grid_row": null,
            "max_height": null,
            "align_content": null,
            "visibility": null,
            "align_self": null,
            "height": null,
            "min_height": null,
            "padding": null,
            "grid_auto_rows": null,
            "grid_gap": null,
            "max_width": null,
            "order": null,
            "_view_module_version": "1.2.0",
            "grid_template_areas": null,
            "object_position": null,
            "object_fit": null,
            "grid_auto_columns": null,
            "margin": null,
            "display": null,
            "left": null
          }
        }
      }
    }
  },
  "nbformat": 4,
  "nbformat_minor": 0
}